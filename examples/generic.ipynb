{
 "cells": [
  {
   "cell_type": "markdown",
   "metadata": {},
   "source": [
    "**To use this notebook:** Run one line at a time waiting for each cell to return before running the next cell."
   ]
  },
  {
   "cell_type": "code",
   "execution_count": null,
   "metadata": {},
   "outputs": [],
   "source": [
    "%pip install -q ipylab"
   ]
  },
  {
   "cell_type": "markdown",
   "metadata": {},
   "source": [
    "# Ipylab\n",
    "\n",
    "`Ipylab` is the primary class that provides functionality for scheduling and awaiting operations between Python objects and the corresponding model in the frontend. Each operation is run as a Task which is assigned a UUID and sent as a custom message. \n",
    "\n",
    "`IpylabModel` has a `base` object that is set prior to being *ready*. The base object is specified by the Python class and located by the frontend model with the `ipylabInit` method (customised by other subclasses). \n",
    "\n",
    "## Operations\n",
    "\n",
    "The `operation` method is the workhorse through which all asynchronous messaging is done. It will always return a task. Each operation much be implement in the frontend model. \n",
    "\n",
    "\n",
    "## Generic methods\n",
    "\n",
    " `Ipylab` implements the following generic methods interact with objects in the fronted: \n",
    "\n",
    "* execute_method\n",
    "* get_property\n",
    "* set_property\n",
    "* update_property\n",
    "* list_properties\n",
    "\n",
    "These methods pass an object to utility functions reducing the need to write corresponding code in the frontend. \n",
    "\n",
    "By default the methods the `base`. A different base object can be specified `obj=Obj.###` to specify a different path.\n",
    "\n"
   ]
  },
  {
   "cell_type": "markdown",
   "metadata": {},
   "source": [
    "## Connection\n",
    "\n",
    "A `Connection` is subclassed from `Ipylab` providing a connection to an object in the Frontend. \n",
    "\n",
    "Each connection has a unique `cid` (stands for connection id).  The `cid` consists of the class prefix `ipylab-<CLASS NAME>|` followed by one or more parts joined with a pipe. The class prefix part of the cid determines the type of class that is created when creating a new instance.\n",
    "\n",
    "In the kernel there is only one instance of a Connection object per `cid`. For example: calling `Connection('ipylab-Connection|my cid')` multiple times will get the same object inside the same kernel.\n",
    "\n",
    "The object in the frontend is stored as an ObservableDisposable and once it has be set, it cannot be replaced with another object, unless it has been disposed.\n",
    "\n",
    "Calling the close method in Python will by default dispose of the object in the frontend. This can behavior can be changed by using `dispose=False`, or previously setting the 'auto_dispose` trait to False.\n",
    "\n",
    "\n",
    "### Subclasses\n",
    "\n",
    "Subclasses of `Connection` are identified by its *prefix* `.\n",
    "\n",
    "### Connection models\n",
    "\n",
    "There are two models for connections, `ConnectionModel` and `ShellConnectionModel`. `ShellConnectionModel` is specific for widgets that are loaded in the shell.\n",
    "\n",
    "### Making a connection\n",
    "\n",
    "Many of the builtin methods return connections.\n",
    "\n",
    "The easiest way to create a connection is to specify the `transform` as a `Transform.connection`. Examples:\n",
    "\n",
    "* [Autostart](plugins.ipynb#Example-launching-a-small-app)\n",
    "* [Console](http://localhost:9999/lab/tree/commands.ipynb#Create-a-new-console)\n",
    "* [Notebook](sessions.ipynb#Create-a-new-Notebook)"
   ]
  },
  {
   "cell_type": "markdown",
   "metadata": {},
   "source": [
    "Note: This notebook should be run one line at a time waiting for each cell to return before running the next cell."
   ]
  },
  {
   "cell_type": "code",
   "execution_count": null,
   "metadata": {},
   "outputs": [],
   "source": [
    "import ipylab\n",
    "\n",
    "app = ipylab.App()\n",
    "\n",
    "t = app.list_properties(\"shell\", depth=2)"
   ]
  },
  {
   "cell_type": "code",
   "execution_count": null,
   "metadata": {},
   "outputs": [],
   "source": [
    "methods = t.result()\n",
    "methods"
   ]
  },
  {
   "cell_type": "markdown",
   "metadata": {},
   "source": [
    "Some of the methods above have already been implemented in 'app.shell' on the Python object. And if you look at the code you'll see these methods use the *generic* method `execute_method`.\n",
    "\n",
    "In case you're interested, the custom message sent to the frontend looks like this:\n",
    "\n",
    "```python\n",
    "{\n",
    "    \"method\": \"custom\",\n",
    "    \"content\": '{\"ipylab_PY\": \"353695a0-1754-4d53-b758-291f70058f41\", \"operation\": \"listProperties\", \"kwgs\": {\"dottedname\": \"shell\", \"depth\": 2, \"omitHidden\": true}, \"transform\": \"raw\"}',\n",
    "}\n",
    "```\n",
    "\n",
    "Note the *content* is always JSON string. This is because we convert every message to JSON prior to sending making it possible to replace widgets and code objects with string representations. For widgets, it is necessary to instruct the frontend what to do with the widget. Currently there are the following additional options:\n",
    "1. `toLuminoWidget`: Replace with a widget in the frontend.\n",
    "2. `toObject`: Replace with an object in the frontend.\n",
    "\n",
    "These options are lists of attributes as they appear in the frontend that should be transformed/extracted."
   ]
  },
  {
   "cell_type": "code",
   "execution_count": null,
   "metadata": {},
   "outputs": [],
   "source": [
    "# The source code\n",
    "\n",
    "import inspect\n",
    "\n",
    "print(inspect.getsource(app.shell.expand_left))  # noqa: T201"
   ]
  },
  {
   "cell_type": "code",
   "execution_count": null,
   "metadata": {},
   "outputs": [],
   "source": [
    "t = app.shell.expand_right()  # Built in"
   ]
  },
  {
   "cell_type": "code",
   "execution_count": null,
   "metadata": {},
   "outputs": [],
   "source": [
    "t = app.shell.execute_method(\"collapseRight\")  # Generic"
   ]
  },
  {
   "cell_type": "markdown",
   "metadata": {},
   "source": [
    "Note that all Python methods are written with `snake_case` whereas the Javascript command is written as `cammelCase`."
   ]
  }
 ],
 "metadata": {
  "kernelspec": {
   "display_name": "Python 3 (ipykernel)",
   "language": "python",
   "name": "python3"
  },
  "language_info": {
   "codemirror_mode": {
    "name": "ipython",
    "version": 3
   },
   "file_extension": ".py",
   "mimetype": "text/x-python",
   "name": "python",
   "nbconvert_exporter": "python",
   "pygments_lexer": "ipython3",
   "version": "3.12.7"
  }
 },
 "nbformat": 4,
 "nbformat_minor": 4
}
