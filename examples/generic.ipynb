{
 "cells": [
  {
   "cell_type": "markdown",
   "metadata": {},
   "source": [
    "# Ipylab\n",
    "\n",
    "`Ipylab` is the primary class that provides functionality for scheduling and awaiting operations between Python objects and the corresponding model in the frontend. Each operation is run as a Task which is assigned a UUID and sent as a custom message. \n",
    "\n",
    "`IpylabModel` has a `base` object that is set prior to being *ready*. The base object is specified by the Python class and located by the frontend model with the `ipylabInit` method (customised by other subclasses). \n",
    "\n",
    "## Operations\n",
    "\n",
    "The `operation` method is the workhorse through which all asynchronous messaging is done. It will always return a task. Each operation much be implement in the frontend model. \n",
    "\n",
    "\n",
    "## Generic methods\n",
    "\n",
    " `Ipylab` implements the following generic methods interact with objects in the fronted: \n",
    "\n",
    "* execute_method\n",
    "* get_property\n",
    "* set_property\n",
    "* update_property\n",
    "* list_properties\n",
    "\n",
    "These methods pass an object to utility functions reducing the need to write corresponding code in the frontend. \n",
    "\n",
    "By default the methods the `base`. A different base object can be specified `obj=Obj.###` to specify a different path.\n",
    "\n",
    "### Signals\n",
    "\n",
    "* list_signals\n",
    "* list_view_signals\n",
    "* register_signal_callback\n",
    "\n",
    "These methods provide for identification of signals and registering callbacks to those signals in the frontend.\n"
   ]
  },
  {
   "cell_type": "markdown",
   "metadata": {},
   "source": [
    "## Connection\n",
    "\n",
    "A `Connection` is subclassed from `Ipylab` providing a connection to an object in the frontend. \n",
    "\n",
    "Each connection has a unique `connection_id`.  The `connection_id` consists of the class prefix `ipylab-<CLASS NAME>|` followed by one or more parts joined with a pipe. The class prefix part of the `connection_id` determines the type of class that is created when creating a new instance.\n",
    "\n",
    "In the kernel there is only one instance of a Connection object per `connection_id`. For example: calling `Connection('ipylab-Connection|my connection_id')` multiple times will get the same object inside the same kernel.\n",
    "\n",
    "The object in the frontend is stored as an ObservableDisposable and once it has be set, it cannot be replaced with another object, unless it has been disposed.\n",
    "\n",
    "Calling the close method in Python will by default dispose of the object in the frontend. This can behavior can be changed by using `dispose=False`, or previously setting the 'auto_dispose` trait to False.\n",
    "\n",
    "\n",
    "### Subclasses\n",
    "\n",
    "Subclasses of `Connection` are identified by its *prefix*. Connection subclasses provide specific functionality relevant to the object. Generally, connections are stored in the `connection` attributed of the class in which they were created.\n",
    "\n",
    "### Connection models\n",
    "\n",
    "Currently there are two Javascript classes models for connections, `ConnectionModel` and `ShellConnectionModel`. `ShellConnectionModel` is specific for widgets that are loaded in the shell.\n",
    "\n",
    "### Making a connection\n",
    "\n",
    "Normally a connection is not instantated directly. To obtain a connection specify the `transform` as a `Transform.connection`.\n",
    "\n",
    "#### Examples:\n",
    "\n",
    "* [Autostart](plugins.ipynb#Example-launching-a-small-app)\n",
    "* [Console](commands.ipynb#Create-a-new-console)\n",
    "* [Signals - connection](#Connection)"
   ]
  },
  {
   "cell_type": "code",
   "execution_count": null,
   "metadata": {},
   "outputs": [],
   "source": [
    "import ipylab\n",
    "\n",
    "app = await ipylab.App().ready()\n",
    "\n",
    "await app.list_properties(\"shell\", depth=2)"
   ]
  },
  {
   "cell_type": "markdown",
   "metadata": {},
   "source": [
    "Some of the methods above have already been implemented in 'app.shell' on the Python object. And if you look at the code you'll see these methods use the *generic* method `execute_method`.\n",
    "\n",
    "In case you're interested, the custom message sent to the frontend looks like this:\n",
    "\n",
    "```python\n",
    "{\n",
    "    \"ipylab\": '{\"ipylab_PY\": \"9b22d58e-e48a-4d8c-84ad-2f92e1b5783e\", \"operation\": \"genericOperation\", \"kwgs\": {\"depth\": 3, \"omitHidden\": true, \"genericOperation\": \"listProperties\", \"basename\": \"base\", \"subpath\": \"\"}, \"transform\": \"auto\"}'\n",
    "}\n",
    "```\n",
    "\n",
    "Note that *ipylab* is always JSON string. This is because we convert every message to JSON prior to sending making it possible to replace widgets and code objects with string representations. For widgets, it is necessary to instruct the frontend what to do with the widget. Currently there are the following additional options:\n",
    "1. `toLuminoWidget`: Replace with a widget in the frontend.\n",
    "2. `toObject`: Replace with an object in the frontend.\n",
    "\n",
    "These options are lists of attributes as they appear in the frontend that should be transformed/extracted."
   ]
  },
  {
   "cell_type": "code",
   "execution_count": null,
   "metadata": {},
   "outputs": [],
   "source": [
    "# The source code\n",
    "\n",
    "import inspect\n",
    "\n",
    "print(inspect.getsource(app.shell.expand_left))"
   ]
  },
  {
   "cell_type": "code",
   "execution_count": null,
   "metadata": {},
   "outputs": [],
   "source": [
    "await app.shell.expand_right()  # Built in"
   ]
  },
  {
   "cell_type": "code",
   "execution_count": null,
   "metadata": {},
   "outputs": [],
   "source": [
    "await app.shell.execute_method(\"collapseRight\")  # Generic"
   ]
  },
  {
   "cell_type": "markdown",
   "metadata": {},
   "source": [
    "Note that all Python methods are written with `snake_case` whereas the Javascript command is written as `cammelCase`."
   ]
  },
  {
   "cell_type": "markdown",
   "metadata": {},
   "source": [
    "## Signals\n",
    "\n",
    "The `Ipylab` class provides methods to list the signals on their corresponding base object in the frontend. If the model also has a view, such as `SimpleOutput` and `CodeEditor` it is also possible to list and register callbacks to signals in the views. The depth parameter specifies the level on introspection on the Javascript object. Using a higher number will search deaper in the class inheritance tree."
   ]
  },
  {
   "cell_type": "code",
   "execution_count": null,
   "metadata": {},
   "outputs": [],
   "source": [
    "import ipylab\n",
    "\n",
    "app = ipylab.App()\n",
    "\n",
    "# Signals for the Jupyterfrontend\n",
    "await app.list_signals(depth=4)"
   ]
  },
  {
   "cell_type": "code",
   "execution_count": null,
   "metadata": {},
   "outputs": [],
   "source": [
    "async def on_context_opened(_):\n",
    "    await app.notification.notify(\"Context menu opened\", type=ipylab.NotificationType.info, auto_close=True)\n",
    "\n",
    "\n",
    "app.register_signal_callback(\"contextMenu.opened\", on_context_opened)"
   ]
  },
  {
   "cell_type": "markdown",
   "metadata": {},
   "source": [
    "You can now open the Context Menu using **right click**"
   ]
  },
  {
   "cell_type": "code",
   "execution_count": null,
   "metadata": {},
   "outputs": [],
   "source": [
    "# Remove the callback\n",
    "app.register_signal_callback(\"contextMenu.opened\", on_context_opened, remove=True)"
   ]
  },
  {
   "cell_type": "markdown",
   "metadata": {},
   "source": [
    "### Connection\n",
    "\n",
    "We can connect to signals via the connection. In this case we will connect to this notebooks widget, and then connection to the 'content' of the widget."
   ]
  },
  {
   "cell_type": "code",
   "execution_count": null,
   "metadata": {},
   "outputs": [],
   "source": [
    "nb = await app.shell.connect_to_widget(app.shell.current_widget_id)\n",
    "nb_content = await nb.get_property(\"content\", transform=ipylab.Transform.connection)\n",
    "await nb_content.list_signals(depth=3)"
   ]
  },
  {
   "cell_type": "code",
   "execution_count": null,
   "metadata": {},
   "outputs": [],
   "source": [
    "out = ipylab.SimpleOutput()\n",
    "\n",
    "\n",
    "def on_signal(data):\n",
    "    out.push(data[\"args\"])\n",
    "\n",
    "\n",
    "nb_content.register_signal_callback(\"activeCellChanged\", on_signal)\n",
    "out"
   ]
  },
  {
   "cell_type": "markdown",
   "metadata": {},
   "source": [
    "Here we get some content as the notebook is being navigated."
   ]
  },
  {
   "cell_type": "code",
   "execution_count": null,
   "metadata": {},
   "outputs": [],
   "source": [
    "# Disconnect\n",
    "nb_content.register_signal_callback(\"activeCellChanged\", on_signal, remove=True)"
   ]
  },
  {
   "cell_type": "markdown",
   "metadata": {},
   "source": [
    "### CodeEditor\n",
    "\n",
    "This signal is useful for providing history data as illustrated in the [Simple console](simple_output.ipynb#Simple-console-example) example."
   ]
  },
  {
   "cell_type": "code",
   "execution_count": null,
   "metadata": {},
   "outputs": [],
   "source": [
    "from ipylab import CodeEditor, SimpleOutput"
   ]
  },
  {
   "cell_type": "code",
   "execution_count": null,
   "metadata": {},
   "outputs": [],
   "source": [
    "ce = await CodeEditor().ready()\n",
    "display(ce)\n",
    "# View signals\n",
    "await ce.list_view_signals()"
   ]
  },
  {
   "cell_type": "markdown",
   "metadata": {},
   "source": [
    "### SimpleOutput"
   ]
  },
  {
   "cell_type": "code",
   "execution_count": null,
   "metadata": {},
   "outputs": [],
   "source": [
    "so = await SimpleOutput().ready()\n",
    "display(so)\n",
    "# View signals\n",
    "await so.list_view_signals()"
   ]
  }
 ],
 "metadata": {
  "kernelspec": {
   "display_name": "Python (async)",
   "language": "python",
   "name": "async"
  },
  "language_info": {
   "codemirror_mode": {
    "name": "ipython",
    "version": 3
   },
   "file_extension": ".py",
   "mimetype": "text/x-python",
   "name": "python",
   "nbconvert_exporter": "python",
   "pygments_lexer": "ipython3",
   "version": "3.11.13.final.0"
  }
 },
 "nbformat": 4,
 "nbformat_minor": 4
}
