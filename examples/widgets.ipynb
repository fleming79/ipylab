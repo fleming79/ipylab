{
 "cells": [
  {
   "cell_type": "markdown",
   "metadata": {},
   "source": [
    "**To use this notebook:** Run one line at a time waiting for each cell to return before running the next cell."
   ]
  },
  {
   "cell_type": "code",
   "execution_count": null,
   "metadata": {},
   "outputs": [],
   "source": [
    "%pip install -q ipylab"
   ]
  },
  {
   "cell_type": "markdown",
   "metadata": {},
   "source": [
    "# Panels and Widgets"
   ]
  },
  {
   "cell_type": "markdown",
   "metadata": {},
   "source": [
    "### Warning for notebooks and consoles\n",
    "\n",
    "**Do not try to await tasks returned from any ipylab methods, doing so block forever preventing further execution.**\n",
    "\n",
    "This happens because Ipylab employs custom messages over widget comms and widget comms is blocked during cell execution (in the default kernel and server).\n",
    "\n",
    "see [Plugins](plugins.ipynb#Example-launching-a-small-app) or [Actions](widgets.ipynb#Notification-Actions) for an example of awaiting the tasks in a coroutine."
   ]
  },
  {
   "cell_type": "code",
   "execution_count": 1,
   "metadata": {},
   "outputs": [],
   "source": [
    "import ipywidgets as ipw\n",
    "\n",
    "import ipylab\n",
    "import asyncio\n",
    "\n",
    "app = await ipylab.App().ready()"
   ]
  },
  {
   "cell_type": "markdown",
   "metadata": {},
   "source": [
    "## Panel\n",
    "\n",
    "A `Panel` widget is the same as a `ipywidget.Box`, but with a `Title` that is used when the panel is added to the application shell."
   ]
  },
  {
   "cell_type": "code",
   "execution_count": 2,
   "metadata": {},
   "outputs": [],
   "source": [
    "panel = ipylab.Panel(children=[ipw.Dropdown()])"
   ]
  },
  {
   "cell_type": "markdown",
   "metadata": {},
   "source": [
    "To quickly add the panel to the JupyterLab *shell* main area:"
   ]
  },
  {
   "cell_type": "code",
   "execution_count": null,
   "metadata": {},
   "outputs": [],
   "source": [
    "sc = await panel.add_to_shell(mode=ipylab.InsertMode.split_right, activate=False, as_coro=True)"
   ]
  },
  {
   "cell_type": "code",
   "execution_count": 11,
   "metadata": {},
   "outputs": [
    {
     "data": {
      "text/plain": [
       "True"
      ]
     },
     "execution_count": 11,
     "metadata": {},
     "output_type": "execute_result"
    }
   ],
   "source": [
    "sc in panel.connections"
   ]
  },
  {
   "cell_type": "code",
   "execution_count": 12,
   "metadata": {},
   "outputs": [
    {
     "data": {
      "text/plain": [
       "True"
      ]
     },
     "execution_count": 12,
     "metadata": {},
     "output_type": "execute_result"
    }
   ],
   "source": [
    "sc in app.shell.connections"
   ]
  },
  {
   "cell_type": "markdown",
   "metadata": {},
   "source": [
    "`sc` is a `ShellConnection`. \n",
    "It provides an `activate` method, and in further may have other features added."
   ]
  },
  {
   "cell_type": "code",
   "execution_count": 13,
   "metadata": {},
   "outputs": [
    {
     "data": {
      "text/plain": [
       "<Task pending name='d20753fe-801c-49de-b124-f8861dd68159' coro=<Ipylab._wrap_awaitable() running at /home/alan/ipylab/ipylab/ipylab.py:197> wait_for=<Future pending cb=[Task.task_wakeup()]> cb=[Ipylab._task_done_callback()]>"
      ]
     },
     "execution_count": 13,
     "metadata": {},
     "output_type": "execute_result"
    }
   ],
   "source": [
    "sc.activate()  # Will activate before returning to this notebook"
   ]
  },
  {
   "cell_type": "markdown",
   "metadata": {},
   "source": [
    "Closing the connection will remove the panel from the shell but leave the panel open."
   ]
  },
  {
   "cell_type": "code",
   "execution_count": 14,
   "metadata": {},
   "outputs": [],
   "source": [
    "sc.close()"
   ]
  },
  {
   "cell_type": "markdown",
   "metadata": {},
   "source": [
    "We can put it back in the shell."
   ]
  },
  {
   "cell_type": "code",
   "execution_count": 15,
   "metadata": {},
   "outputs": [],
   "source": [
    "sc = await panel.add_to_shell(mode=ipylab.InsertMode.split_right, activate=False)"
   ]
  },
  {
   "cell_type": "code",
   "execution_count": 16,
   "metadata": {},
   "outputs": [],
   "source": [
    "# closable is on the widget in the shell rather than the panel, but we can set it using set_property.\n",
    "t = sc.set_property(\"title.closable\", False)"
   ]
  },
  {
   "cell_type": "markdown",
   "metadata": {},
   "source": [
    "The title label can be updated as required."
   ]
  },
  {
   "cell_type": "code",
   "execution_count": 17,
   "metadata": {},
   "outputs": [],
   "source": [
    "panel.title.label = \"This panel has a dropdown\""
   ]
  },
  {
   "cell_type": "markdown",
   "metadata": {},
   "source": [
    "We can close the panel and the view will disappear."
   ]
  },
  {
   "cell_type": "code",
   "execution_count": 18,
   "metadata": {},
   "outputs": [],
   "source": [
    "panel.close()"
   ]
  },
  {
   "cell_type": "markdown",
   "metadata": {},
   "source": [
    "When the panel is closed sc is also closed."
   ]
  },
  {
   "cell_type": "code",
   "execution_count": 19,
   "metadata": {},
   "outputs": [
    {
     "data": {
      "text/plain": [
       "< Not ready: ShellConnection(cid='ipylab-ShellConnection|50c7eed6-9fbd-4069-a300-757e02e89ff2') >"
      ]
     },
     "execution_count": 19,
     "metadata": {},
     "output_type": "execute_result"
    }
   ],
   "source": [
    "sc"
   ]
  },
  {
   "cell_type": "markdown",
   "metadata": {},
   "source": [
    "In the case of sliders and other widgets that fit on a single line, they can even be added to the top area directly:"
   ]
  },
  {
   "cell_type": "code",
   "execution_count": 20,
   "metadata": {},
   "outputs": [
    {
     "data": {
      "text/plain": [
       "<Task pending name='Add to shell' coro=<Ipylab._wrap_awaitable() running at /home/alan/ipylab/ipylab/ipylab.py:199> wait_for=<Task pending name='d1ab77a2-6c7b-4bb3-a11e-78665209ac1b' coro=<Ipylab._wrap_awaitable() running at /home/alan/ipylab/ipylab/ipylab.py:199> wait_for=<Future pending cb=[Task.task_wakeup()]> cb=[Ipylab._task_done_callback(), Task.task_wakeup()]> cb=[Ipylab._task_done_callback()]>"
      ]
     },
     "execution_count": 20,
     "metadata": {},
     "output_type": "execute_result"
    }
   ],
   "source": [
    "slider = ipw.IntSlider()\n",
    "app.shell.add(slider, area=ipylab.Area.top)"
   ]
  },
  {
   "cell_type": "markdown",
   "metadata": {},
   "source": [
    "We can also remove it from the top area when we are done."
   ]
  },
  {
   "cell_type": "code",
   "execution_count": 21,
   "metadata": {},
   "outputs": [],
   "source": [
    "slider.close()"
   ]
  },
  {
   "cell_type": "markdown",
   "metadata": {},
   "source": [
    "## SplitPanel\n",
    "A split panel is a subclass of Panel that provides a draggable border between widgets, whose orientatation can be either horizontal or vertical.\n",
    "Let's create a `SplitPanel` with a few widgets inside."
   ]
  },
  {
   "cell_type": "code",
   "execution_count": 22,
   "metadata": {},
   "outputs": [
    {
     "data": {
      "application/vnd.jupyter.widget-view+json": {
       "model_id": "560500a795184e6c81f5c7672ba0a6f7",
       "version_major": 2,
       "version_minor": 0
      },
      "text/plain": [
       "Box(children=(SplitPanel(children=(IntProgress(value=7, bar_style='info', description='Loading:', layout=Layou…"
      ]
     },
     "execution_count": 22,
     "metadata": {},
     "output_type": "execute_result"
    }
   ],
   "source": [
    "split_panel = ipylab.SplitPanel()\n",
    "progress = ipw.IntProgress(\n",
    "    value=7,\n",
    "    min=0,\n",
    "    max=100,\n",
    "    step=1,\n",
    "    description=\"Loading:\",\n",
    "    bar_style=\"info\",\n",
    "    orientation=\"horizontal\",\n",
    "    layout={\"height\": \"30px\"},\n",
    ")\n",
    "slider_ctrl = ipw.IntSlider(\n",
    "    min=0,\n",
    "    max=100,\n",
    "    step=1,\n",
    "    description=\"Slider Control:\",\n",
    ")\n",
    "\n",
    "# link the slider to the progress bar\n",
    "ipw.jslink((slider_ctrl, \"value\"), (progress, \"value\"))\n",
    "\n",
    "# add the widgets to the split panel\n",
    "split_panel.children = [progress, slider_ctrl]\n",
    "ipw.Box(children=[split_panel], layout={\"height\": \"100px\"})"
   ]
  },
  {
   "cell_type": "code",
   "execution_count": 23,
   "metadata": {},
   "outputs": [],
   "source": [
    "split_panel.title.label = \"A SplitPanel \"\n",
    "split_panel.title.icon_class = \"jp-PythonIcon\""
   ]
  },
  {
   "cell_type": "markdown",
   "metadata": {},
   "source": [
    "> As an alternative to `icon_class`, a `Panel` can also use custom [icons](./icons.ipynb)."
   ]
  },
  {
   "cell_type": "code",
   "execution_count": 24,
   "metadata": {},
   "outputs": [
    {
     "data": {
      "text/plain": [
       "<Task pending name='Add to shell' coro=<Ipylab._wrap_awaitable() running at /home/alan/ipylab/ipylab/ipylab.py:199> wait_for=<Task pending name='35126389-efa3-4bd5-8550-7aa55e705941' coro=<Ipylab._wrap_awaitable() running at /home/alan/ipylab/ipylab/ipylab.py:199> wait_for=<Future pending cb=[Task.task_wakeup()]> cb=[Ipylab._task_done_callback(), Task.task_wakeup()]> cb=[Ipylab._task_done_callback()]>"
      ]
     },
     "execution_count": 24,
     "metadata": {},
     "output_type": "execute_result"
    }
   ],
   "source": [
    "split_panel.add_to_shell(area=ipylab.Area.main, mode=ipylab.InsertMode.split_bottom)"
   ]
  },
  {
   "cell_type": "markdown",
   "metadata": {},
   "source": [
    "The orientation can be updated on the fly:"
   ]
  },
  {
   "cell_type": "code",
   "execution_count": 25,
   "metadata": {},
   "outputs": [],
   "source": [
    "split_panel.orientation = \"horizontal\""
   ]
  },
  {
   "cell_type": "markdown",
   "metadata": {},
   "source": [
    "Let's put it back to `vertical`"
   ]
  },
  {
   "cell_type": "code",
   "execution_count": 26,
   "metadata": {},
   "outputs": [],
   "source": [
    "split_panel.orientation = \"vertical\""
   ]
  },
  {
   "cell_type": "markdown",
   "metadata": {},
   "source": [
    "Just like with boxes, we can add an existing widget (the progress bar) more than once:"
   ]
  },
  {
   "cell_type": "code",
   "execution_count": 27,
   "metadata": {},
   "outputs": [],
   "source": [
    "split_panel.children += (progress,)"
   ]
  },
  {
   "cell_type": "markdown",
   "metadata": {},
   "source": [
    "Or add a new widget:"
   ]
  },
  {
   "cell_type": "code",
   "execution_count": 28,
   "metadata": {},
   "outputs": [],
   "source": [
    "play = ipw.Play(min=0, max=100, step=1, description=\"Press play\")\n",
    "ipw.jslink((play, \"value\"), (slider_ctrl, \"value\"))\n",
    "split_panel.children += (play,)"
   ]
  },
  {
   "cell_type": "markdown",
   "metadata": {},
   "source": [
    "## Left and Right Areas\n",
    "\n",
    "The same `SplitPanel` widget (or `Panel` or `Widget`) can be moved to the left area:"
   ]
  },
  {
   "cell_type": "code",
   "execution_count": 29,
   "metadata": {},
   "outputs": [],
   "source": [
    "split_panel.add_to_shell(area=ipylab.Area.left, rank=1000)\n",
    "await split_panel.connections[0].activate()"
   ]
  },
  {
   "cell_type": "markdown",
   "metadata": {},
   "source": [
    "Or to the right area:"
   ]
  },
  {
   "cell_type": "code",
   "execution_count": 30,
   "metadata": {},
   "outputs": [],
   "source": [
    "split_panel.add_to_shell(area=ipylab.Area.right, rank=1000)\n",
    "await split_panel.connections[0].activate()"
   ]
  },
  {
   "cell_type": "code",
   "execution_count": 31,
   "metadata": {},
   "outputs": [],
   "source": [
    "await app.shell.collapse_right()"
   ]
  },
  {
   "cell_type": "markdown",
   "metadata": {},
   "source": [
    "Notice how it moved the widget instead of adding a second one?\n",
    "\n",
    "This is the default behaviour.\n",
    "\n",
    "To have multiple widgets, provide it with a new `cid` when 'adding' it to the shell."
   ]
  },
  {
   "cell_type": "code",
   "execution_count": 32,
   "metadata": {},
   "outputs": [
    {
     "data": {
      "text/plain": [
       "< Not ready: ShellConnection(cid='ipylab-ShellConnection|ba333e5f-5d65-4bdb-8d47-4ab6df532677') >"
      ]
     },
     "execution_count": 32,
     "metadata": {},
     "output_type": "execute_result"
    }
   ],
   "source": [
    "await split_panel.add_to_shell(cid=ipylab.ShellConnection.to_cid(), mode=ipylab.InsertMode.split_right)"
   ]
  },
  {
   "cell_type": "code",
   "execution_count": 33,
   "metadata": {},
   "outputs": [
    {
     "data": {
      "text/plain": [
       "(ShellConnection(cid='ipylab-ShellConnection|d3aa35a1-f0a0-4617-9fb8-0e77cc48f996'),\n",
       " < Not ready: ShellConnection(cid='ipylab-ShellConnection|ba333e5f-5d65-4bdb-8d47-4ab6df532677') >)"
      ]
     },
     "execution_count": 33,
     "metadata": {},
     "output_type": "execute_result"
    }
   ],
   "source": [
    "split_panel.connections[0].activate()\n",
    "split_panel.connections"
   ]
  },
  {
   "cell_type": "code",
   "execution_count": 34,
   "metadata": {},
   "outputs": [
    {
     "ename": "NameError",
     "evalue": "name 'fail' is not defined",
     "output_type": "error",
     "traceback": [
      "\u001b[31m---------------------------------------------------------------------------\u001b[39m",
      "\u001b[31mNameError\u001b[39m                                 Traceback (most recent call last)",
      "\u001b[36mCell\u001b[39m\u001b[36m \u001b[39m\u001b[32mIn[34]\u001b[39m\u001b[32m, line 2\u001b[39m\n\u001b[32m      1\u001b[39m split_panel.close()\n\u001b[32m----> \u001b[39m\u001b[32m2\u001b[39m \u001b[43mfail\u001b[49m\n\u001b[32m      3\u001b[39m \u001b[38;5;28;01mawait\u001b[39;00m asyncio.sleep(\u001b[32m1\u001b[39m)\n",
      "\u001b[31mNameError\u001b[39m: name 'fail' is not defined"
     ]
    }
   ],
   "source": [
    "split_panel.close()\n",
    "fail\n",
    "await asyncio.sleep(1)"
   ]
  },
  {
   "cell_type": "code",
   "execution_count": null,
   "metadata": {},
   "outputs": [],
   "source": [
    "split_panel.connections"
   ]
  },
  {
   "cell_type": "code",
   "execution_count": null,
   "metadata": {},
   "outputs": [],
   "source": []
  }
 ],
 "metadata": {
  "kernelspec": {
   "display_name": "Python 3 (ipykernel)",
   "language": "python",
   "name": "python3"
  },
  "language_info": {
   "codemirror_mode": {
    "name": "ipython",
    "version": 3
   },
   "file_extension": ".py",
   "mimetype": "text/x-python",
   "name": "python",
   "nbconvert_exporter": "python",
   "pygments_lexer": "ipython3",
   "version": "3.12.9"
  }
 },
 "nbformat": 4,
 "nbformat_minor": 4
}
