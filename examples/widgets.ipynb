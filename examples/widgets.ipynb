{
 "cells": [
  {
   "cell_type": "markdown",
   "metadata": {},
   "source": [
    "# Panels and Widgets"
   ]
  },
  {
   "cell_type": "code",
   "execution_count": 1,
   "metadata": {},
   "outputs": [],
   "source": [
    "import anyio\n",
    "import ipylab\n",
    "import ipywidgets as ipw\n",
    "\n",
    "app = await ipylab.App().ready()"
   ]
  },
  {
   "cell_type": "markdown",
   "metadata": {},
   "source": [
    "## Panel\n",
    "\n",
    "A `Panel` widget is the same as a `ipywidget.Box`, but with a `Title` that is used when the panel is added to the application shell."
   ]
  },
  {
   "cell_type": "code",
   "execution_count": 2,
   "metadata": {},
   "outputs": [],
   "source": [
    "panel = ipylab.Panel(children=[ipw.Dropdown()])"
   ]
  },
  {
   "cell_type": "markdown",
   "metadata": {},
   "source": [
    "To quickly add the panel to the JupyterLab *shell* main area:"
   ]
  },
  {
   "cell_type": "code",
   "execution_count": 3,
   "metadata": {},
   "outputs": [],
   "source": [
    "sc = await panel.add_to_shell(mode=ipylab.InsertMode.split_right, activate=False)"
   ]
  },
  {
   "cell_type": "code",
   "execution_count": 4,
   "metadata": {},
   "outputs": [
    {
     "data": {
      "text/plain": [
       "True"
      ]
     },
     "execution_count": 4,
     "metadata": {},
     "output_type": "display_data"
    }
   ],
   "source": [
    "sc in panel.connections"
   ]
  },
  {
   "cell_type": "code",
   "execution_count": 5,
   "metadata": {},
   "outputs": [
    {
     "data": {
      "text/plain": [
       "True"
      ]
     },
     "execution_count": 5,
     "metadata": {},
     "output_type": "display_data"
    }
   ],
   "source": [
    "sc in app.shell.connections"
   ]
  },
  {
   "cell_type": "markdown",
   "metadata": {},
   "source": [
    "`sc` is a `ShellConnection`. \n",
    "It provides an `activate` method, and in further may have other features added."
   ]
  },
  {
   "cell_type": "code",
   "execution_count": 6,
   "metadata": {},
   "outputs": [],
   "source": [
    "await sc.activate()  # Will activate before returning to this notebook"
   ]
  },
  {
   "cell_type": "markdown",
   "metadata": {},
   "source": [
    "Closing the connection will remove the panel from the shell but leave the panel open."
   ]
  },
  {
   "cell_type": "code",
   "execution_count": 7,
   "metadata": {},
   "outputs": [],
   "source": [
    "sc.close()"
   ]
  },
  {
   "cell_type": "markdown",
   "metadata": {},
   "source": [
    "We can put it back in the shell."
   ]
  },
  {
   "cell_type": "code",
   "execution_count": 8,
   "metadata": {},
   "outputs": [],
   "source": [
    "sc = await panel.add_to_shell(mode=ipylab.InsertMode.split_right, activate=False)"
   ]
  },
  {
   "cell_type": "code",
   "execution_count": 9,
   "metadata": {},
   "outputs": [],
   "source": [
    "# closable is on the widget in the shell rather than the panel, but we can set it using set_property.\n",
    "await sc.set_property(\"title.closable\", False)"
   ]
  },
  {
   "cell_type": "markdown",
   "metadata": {},
   "source": [
    "The title label can be updated as required."
   ]
  },
  {
   "cell_type": "code",
   "execution_count": 10,
   "metadata": {},
   "outputs": [],
   "source": [
    "panel.title.label = \"This panel has a dropdown\""
   ]
  },
  {
   "cell_type": "markdown",
   "metadata": {},
   "source": [
    "We can close the panel and the view will disappear."
   ]
  },
  {
   "cell_type": "code",
   "execution_count": 11,
   "metadata": {},
   "outputs": [],
   "source": [
    "panel.close()"
   ]
  },
  {
   "cell_type": "markdown",
   "metadata": {},
   "source": [
    "When the panel is closed sc is also closed."
   ]
  },
  {
   "cell_type": "code",
   "execution_count": 12,
   "metadata": {},
   "outputs": [
    {
     "data": {
      "text/plain": [
       "ShellConnection('ipylab-ShellConnection|0c4a05d8-5955-4e32-af6b-d0f880306a54')"
      ]
     },
     "execution_count": 12,
     "metadata": {},
     "output_type": "display_data"
    }
   ],
   "source": [
    "sc"
   ]
  },
  {
   "cell_type": "markdown",
   "metadata": {},
   "source": [
    "In the case of sliders and other widgets that fit on a single line, they can even be added to the top area directly:"
   ]
  },
  {
   "cell_type": "code",
   "execution_count": 13,
   "metadata": {},
   "outputs": [
    {
     "data": {
      "text/plain": [
       "ShellConnection('ipylab-ShellConnection|36bf5463-6e33-4f38-ac79-24038325c21d')"
      ]
     },
     "execution_count": 13,
     "metadata": {},
     "output_type": "display_data"
    }
   ],
   "source": [
    "slider = ipw.IntSlider()\n",
    "await app.shell.add(slider, area=ipylab.Area.top)"
   ]
  },
  {
   "cell_type": "markdown",
   "metadata": {},
   "source": [
    "We can also remove it from the top area when we are done."
   ]
  },
  {
   "cell_type": "code",
   "execution_count": 14,
   "metadata": {},
   "outputs": [],
   "source": [
    "slider.close()"
   ]
  },
  {
   "cell_type": "markdown",
   "metadata": {},
   "source": [
    "## SplitPanel\n",
    "A split panel is a subclass of Panel that provides a draggable border between widgets, whose orientatation can be either horizontal or vertical.\n",
    "Let's create a `SplitPanel` with a few widgets inside."
   ]
  },
  {
   "cell_type": "code",
   "execution_count": 15,
   "metadata": {},
   "outputs": [
    {
     "data": {
      "application/vnd.jupyter.widget-view+json": {
       "model_id": "7469a4d0610c47d8815f18099d97dcdb",
       "version_major": 2,
       "version_minor": 0
      },
      "text/plain": [
       "Box(children=(SplitPanel(children=(IntProgress(value=7, bar_style='info', description='Loading:', layout=Layou…"
      ]
     },
     "execution_count": 15,
     "metadata": {},
     "output_type": "display_data"
    }
   ],
   "source": [
    "split_panel = ipylab.SplitPanel()\n",
    "progress = ipw.IntProgress(\n",
    "    value=7,\n",
    "    min=0,\n",
    "    max=100,\n",
    "    step=1,\n",
    "    description=\"Loading:\",\n",
    "    bar_style=\"info\",\n",
    "    orientation=\"horizontal\",\n",
    "    layout={\"height\": \"30px\"},\n",
    ")\n",
    "slider_ctrl = ipw.IntSlider(\n",
    "    min=0,\n",
    "    max=100,\n",
    "    step=1,\n",
    "    description=\"Slider Control:\",\n",
    ")\n",
    "\n",
    "# link the slider to the progress bar\n",
    "ipw.jslink((slider_ctrl, \"value\"), (progress, \"value\"))\n",
    "\n",
    "# add the widgets to the split panel\n",
    "split_panel.children = [progress, slider_ctrl]\n",
    "ipw.Box(children=[split_panel], layout={\"height\": \"100px\"})"
   ]
  },
  {
   "cell_type": "code",
   "execution_count": 16,
   "metadata": {},
   "outputs": [],
   "source": [
    "split_panel.title.label = \"A SplitPanel \"\n",
    "split_panel.title.icon_class = \"jp-PythonIcon\""
   ]
  },
  {
   "cell_type": "markdown",
   "metadata": {},
   "source": [
    "> As an alternative to `icon_class`, a `Panel` can also use custom [icons](./icons.ipynb)."
   ]
  },
  {
   "cell_type": "code",
   "execution_count": 17,
   "metadata": {},
   "outputs": [
    {
     "data": {
      "text/plain": [
       "ShellConnection('ipylab-ShellConnection|f5beffcc-720e-44af-a0b0-4d1d26cae4fb')"
      ]
     },
     "execution_count": 17,
     "metadata": {},
     "output_type": "display_data"
    }
   ],
   "source": [
    "await split_panel.add_to_shell(area=ipylab.Area.main, mode=ipylab.InsertMode.split_bottom)"
   ]
  },
  {
   "cell_type": "markdown",
   "metadata": {},
   "source": [
    "The orientation can be updated on the fly:"
   ]
  },
  {
   "cell_type": "code",
   "execution_count": 18,
   "metadata": {},
   "outputs": [],
   "source": [
    "split_panel.orientation = \"horizontal\""
   ]
  },
  {
   "cell_type": "markdown",
   "metadata": {},
   "source": [
    "Let's put it back to `vertical`"
   ]
  },
  {
   "cell_type": "code",
   "execution_count": 19,
   "metadata": {},
   "outputs": [],
   "source": [
    "split_panel.orientation = \"vertical\""
   ]
  },
  {
   "cell_type": "markdown",
   "metadata": {},
   "source": [
    "Just like with boxes, we can add an existing widget (the progress bar) more than once:"
   ]
  },
  {
   "cell_type": "code",
   "execution_count": 20,
   "metadata": {},
   "outputs": [],
   "source": [
    "split_panel.children += (progress,)"
   ]
  },
  {
   "cell_type": "markdown",
   "metadata": {},
   "source": [
    "Or add a new widget:"
   ]
  },
  {
   "cell_type": "code",
   "execution_count": 21,
   "metadata": {},
   "outputs": [],
   "source": [
    "play = ipw.Play(min=0, max=100, step=1, description=\"Press play\")\n",
    "ipw.jslink((play, \"value\"), (slider_ctrl, \"value\"))\n",
    "split_panel.children += (play,)"
   ]
  },
  {
   "cell_type": "markdown",
   "metadata": {},
   "source": [
    "## Left and Right Areas\n",
    "\n",
    "The same `SplitPanel` widget (or `Panel` or `Widget`) can be moved to the left area:"
   ]
  },
  {
   "cell_type": "code",
   "execution_count": 22,
   "metadata": {},
   "outputs": [],
   "source": [
    "sc = await split_panel.add_to_shell(area=ipylab.Area.left, rank=1000)\n",
    "await sc.activate()"
   ]
  },
  {
   "cell_type": "markdown",
   "metadata": {},
   "source": [
    "Or to the right area:"
   ]
  },
  {
   "cell_type": "code",
   "execution_count": 23,
   "metadata": {},
   "outputs": [],
   "source": [
    "sc = await split_panel.add_to_shell(area=ipylab.Area.right, rank=1000)\n",
    "await sc.activate()"
   ]
  },
  {
   "cell_type": "code",
   "execution_count": 24,
   "metadata": {},
   "outputs": [],
   "source": [
    "await app.shell.collapse_right()"
   ]
  },
  {
   "cell_type": "markdown",
   "metadata": {},
   "source": [
    "Notice how it moved the widget instead of adding a second one?\n",
    "\n",
    "This is the default behaviour.\n",
    "\n",
    "To have multiple widgets, provide it with a new `connection_id` when 'adding' it to the shell."
   ]
  },
  {
   "cell_type": "code",
   "execution_count": 25,
   "metadata": {},
   "outputs": [],
   "source": [
    "sc = await split_panel.add_to_shell(connection_id=ipylab.ShellConnection.to_id(), mode=ipylab.InsertMode.split_right)"
   ]
  },
  {
   "cell_type": "code",
   "execution_count": 26,
   "metadata": {},
   "outputs": [
    {
     "data": {
      "text/plain": [
       "(ShellConnection('ipylab-ShellConnection|f5beffcc-720e-44af-a0b0-4d1d26cae4fb'),\n",
       " ShellConnection('ipylab-ShellConnection|2ef52bdf-3612-470b-9ab6-9a475dd7f8a0'))"
      ]
     },
     "execution_count": 26,
     "metadata": {},
     "output_type": "display_data"
    }
   ],
   "source": [
    "await sc.activate()\n",
    "split_panel.connections"
   ]
  },
  {
   "cell_type": "code",
   "execution_count": 27,
   "metadata": {},
   "outputs": [],
   "source": [
    "split_panel.close()\n",
    "await anyio.sleep(0.1)"
   ]
  },
  {
   "cell_type": "code",
   "execution_count": 28,
   "metadata": {},
   "outputs": [
    {
     "data": {
      "text/plain": [
       "(< CLOSED: ShellConnection('ipylab-ShellConnection|f5beffcc-720e-44af-a0b0-4d1d26cae4fb') >,\n",
       " < CLOSED: ShellConnection('ipylab-ShellConnection|2ef52bdf-3612-470b-9ab6-9a475dd7f8a0') >)"
      ]
     },
     "execution_count": 28,
     "metadata": {},
     "output_type": "display_data"
    }
   ],
   "source": [
    "split_panel.connections"
   ]
  },
  {
   "cell_type": "code",
   "execution_count": null,
   "metadata": {},
   "outputs": [],
   "source": []
  }
 ],
 "metadata": {
  "kernelspec": {
   "display_name": "Python (async)",
   "language": "python",
   "name": "async"
  },
  "language_info": {
   "codemirror_mode": {
    "name": "ipython",
    "version": 3
   },
   "file_extension": ".py",
   "mimetype": "text/x-python",
   "name": "python",
   "nbconvert_exporter": "python",
   "pygments_lexer": "ipython3",
   "version": "3.13.6"
  }
 },
 "nbformat": 4,
 "nbformat_minor": 4
}
