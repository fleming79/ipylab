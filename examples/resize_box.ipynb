{
 "cells": [
  {
   "cell_type": "markdown",
   "metadata": {},
   "source": [
    "**To use this notebook:** Run one line at a time waiting for each cell to return before running the next cell."
   ]
  },
  {
   "cell_type": "markdown",
   "metadata": {},
   "source": [
    "# ResizeBox\n",
    "\n",
    "A resize box is a Box with the css style [`resize: 'both'`](https://developer.mozilla.org/en-US/docs/Web/CSS/resize). A size observer in the frontend synchronises the `size` trait of the box (clientHeight, clientWidth) to the size of the box. All views are resizeable and will have the same same size.\n",
    "\n",
    "A resize box can be used to wrap an element that is otherwise not dynamically resizable, for example: the [Matplotlib ipympl widget](https://github.com/matplotlib/ipympl).\n",
    "\n",
    "Tip: If you want to make a widget resizeable without synchronised views add a class with resize set instead [resize css example](css_stylesheet.ipynb#Resize-example)."
   ]
  },
  {
   "cell_type": "code",
   "execution_count": null,
   "metadata": {},
   "outputs": [],
   "source": [
    "import ipywidgets as ipw\n",
    "\n",
    "import ipylab.widgets"
   ]
  },
  {
   "cell_type": "code",
   "execution_count": null,
   "metadata": {},
   "outputs": [],
   "source": [
    "button = ipw.Button()\n",
    "label = ipw.HTML(\"Test\")\n",
    "resize_box = ipylab.widgets.ResizeBox([label], layout={\"border\": \"solid 1px black\"})\n",
    "\n",
    "\n",
    "def observe(_):\n",
    "    label.value = f\"<b>Size: {resize_box.size}px</b>\"\n",
    "\n",
    "\n",
    "resize_box.observe(observe, names=(\"size\"))"
   ]
  },
  {
   "cell_type": "code",
   "execution_count": null,
   "metadata": {},
   "outputs": [],
   "source": [
    "resize_box"
   ]
  },
  {
   "cell_type": "code",
   "execution_count": null,
   "metadata": {},
   "outputs": [],
   "source": [
    "resize_box"
   ]
  },
  {
   "cell_type": "code",
   "execution_count": null,
   "metadata": {},
   "outputs": [],
   "source": [
    "ipw.VBox([resize_box, resize_box])"
   ]
  },
  {
   "cell_type": "markdown",
   "metadata": {},
   "source": [
    "## Matplotlib example\n",
    "\n",
    "`ipympl` provides a resizeable figure, but it isn't dynamically resizeable."
   ]
  },
  {
   "cell_type": "code",
   "execution_count": null,
   "metadata": {},
   "outputs": [],
   "source": [
    "%pip install -q ipympl numpy"
   ]
  },
  {
   "cell_type": "markdown",
   "metadata": {},
   "source": [
    "**Restart jupyterlab if you installed ipympl**"
   ]
  },
  {
   "cell_type": "code",
   "execution_count": null,
   "metadata": {},
   "outputs": [],
   "source": [
    "import matplotlib as mpl\n",
    "import matplotlib.pyplot as plt\n",
    "import numpy as np\n",
    "\n",
    "mpl.use(\"module://ipympl.backend_nbagg\")\n",
    "\n",
    "x = np.linspace(0, 2 * np.pi, 200)\n",
    "y = np.sin(x)\n",
    "\n",
    "fig, ax = plt.subplots()\n",
    "ax.plot(x, y)\n",
    "plt.show()"
   ]
  },
  {
   "cell_type": "markdown",
   "metadata": {},
   "source": [
    "### Make the plot resize dynamically\n",
    "\n",
    "We can dynamically update the size of the plot by using `ResizeBox`."
   ]
  },
  {
   "cell_type": "code",
   "execution_count": null,
   "metadata": {},
   "outputs": [],
   "source": [
    "import ipylab\n",
    "from ipylab.widgets import ResizeBox\n",
    "\n",
    "box = ResizeBox([fig.canvas])\n",
    "fig.canvas.resizable = False\n",
    "\n",
    "\n",
    "def _observe_resizebox_dimensions(change):\n",
    "    box: ResizeBox = change[\"owner\"]  # type: ignore\n",
    "    canvas = box.children[0]  # type: ignore\n",
    "    width, height = box.size\n",
    "    dpi = canvas.figure.dpi\n",
    "    fig.set_size_inches(max((width) // dpi, 1), max((height) // dpi, 1))\n",
    "    fig.canvas.draw_idle()\n",
    "\n",
    "\n",
    "box.observe(_observe_resizebox_dimensions, names=(\"size\"))"
   ]
  },
  {
   "cell_type": "markdown",
   "metadata": {},
   "source": [
    "Lets add the box to the shell.\n",
    "\n",
    "Try the following:\n",
    "- Resize the browser and watch the figure update.\n",
    "- Use the resize handle to resize the plot."
   ]
  },
  {
   "cell_type": "code",
   "execution_count": null,
   "metadata": {},
   "outputs": [],
   "source": [
    "ipylab.app.shell.add(box)"
   ]
  }
 ],
 "metadata": {
  "kernelspec": {
   "display_name": "Python 3 (ipykernel)",
   "language": "python",
   "name": "python3"
  },
  "language_info": {
   "codemirror_mode": {
    "name": "ipython",
    "version": 3
   },
   "file_extension": ".py",
   "mimetype": "text/x-python",
   "name": "python",
   "nbconvert_exporter": "python",
   "pygments_lexer": "ipython3",
   "version": "3.12.9"
  }
 },
 "nbformat": 4,
 "nbformat_minor": 4
}
