{
 "cells": [
  {
   "cell_type": "markdown",
   "metadata": {},
   "source": [
    "# Session Manager"
   ]
  },
  {
   "cell_type": "code",
   "execution_count": 1,
   "metadata": {},
   "outputs": [],
   "source": [
    "import ipylab\n",
    "\n",
    "app = await ipylab.JupyterFrontEnd().ready()"
   ]
  },
  {
   "cell_type": "markdown",
   "metadata": {},
   "source": [
    "## Show all sessions from the global `SessionManager` instance"
   ]
  },
  {
   "cell_type": "code",
   "execution_count": 2,
   "metadata": {},
   "outputs": [
    {
     "data": {
      "text/plain": [
       "[{'id': '9bf35818-89af-4b63-8de1-d91ff3068763',\n",
       "  'path': 'toolbar.ipynb',\n",
       "  'name': 'toolbar.ipynb',\n",
       "  'type': 'notebook',\n",
       "  'kernel': {'id': 'd86c7827-77a4-4bf1-9d99-5092549e4da4',\n",
       "   'name': 'async',\n",
       "   'last_activity': '2025-10-08T07:08:35.704530Z',\n",
       "   'execution_state': 'idle',\n",
       "   'connections': 1},\n",
       "  'notebook': {'path': 'toolbar.ipynb', 'name': 'toolbar.ipynb'}},\n",
       " {'id': '959bb15f-b8d1-42c3-b2a5-ea359cd57db3',\n",
       "  'path': 'sessions.ipynb',\n",
       "  'name': 'sessions.ipynb',\n",
       "  'type': 'notebook',\n",
       "  'kernel': {'id': 'fc3a08ac-546d-4719-b26f-1cc01d31b942',\n",
       "   'name': 'async',\n",
       "   'last_activity': '2025-10-08T07:09:00.967757Z',\n",
       "   'execution_state': 'starting',\n",
       "   'connections': 0},\n",
       "  'notebook': {'path': 'sessions.ipynb', 'name': 'sessions.ipynb'}}]"
      ]
     },
     "execution_count": 2,
     "metadata": {},
     "output_type": "display_data"
    }
   ],
   "source": [
    "await app.sessions.get_running()"
   ]
  },
  {
   "cell_type": "markdown",
   "metadata": {},
   "source": [
    "## Show current session"
   ]
  },
  {
   "cell_type": "code",
   "execution_count": 3,
   "metadata": {},
   "outputs": [
    {
     "data": {
      "text/plain": [
       "{'id': '959bb15f-b8d1-42c3-b2a5-ea359cd57db3',\n",
       " 'kernel': {'id': 'fc3a08ac-546d-4719-b26f-1cc01d31b942', 'name': 'async'},\n",
       " 'path': 'sessions.ipynb',\n",
       " 'type': 'notebook',\n",
       " 'name': 'sessions.ipynb'}"
      ]
     },
     "execution_count": 3,
     "metadata": {},
     "output_type": "display_data"
    }
   ],
   "source": [
    "session = await app.sessions.get_current()\n",
    "session"
   ]
  },
  {
   "cell_type": "markdown",
   "metadata": {},
   "source": [
    "## Example: Create Console with current session\n",
    "This command creates a new console sharing the same `session` as the current notebook."
   ]
  },
  {
   "cell_type": "code",
   "execution_count": 4,
   "metadata": {},
   "outputs": [
    {
     "data": {
      "text/plain": [
       "ShellConnection(\"'ipylab-Shel…872542661b8e'\")"
      ]
     },
     "execution_count": 4,
     "metadata": {},
     "output_type": "display_data"
    }
   ],
   "source": [
    "await app.commands.execute(\"console:create\", session)"
   ]
  }
 ],
 "metadata": {
  "kernelspec": {
   "display_name": "Python (async)",
   "language": "python",
   "name": "async"
  },
  "language_info": {
   "codemirror_mode": {
    "name": "ipython",
    "version": 3
   },
   "file_extension": ".py",
   "mimetype": "text/x-python",
   "name": "python",
   "nbconvert_exporter": "python",
   "pygments_lexer": "ipython3",
   "version": "3.13.6"
  }
 },
 "nbformat": 4,
 "nbformat_minor": 4
}
