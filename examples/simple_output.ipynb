{
 "cells": [
  {
   "cell_type": "markdown",
   "id": "0",
   "metadata": {},
   "source": [
    "**To use this notebook:** Run one line at a time waiting for each cell to return before running the next cell."
   ]
  },
  {
   "cell_type": "markdown",
   "id": "1",
   "metadata": {},
   "source": [
    "# Simple Output\n",
    "\n",
    "SimpleOutput is a widget that provides an output area to display all types of output. \n",
    "\n",
    "It is designed to minimise the size of messages and/or number of messages sent to the frontend. It is not supposed to be a drop in replacement for the Ipywidget `Output' widget, rather it provides an alternate type of interface.\n",
    "\n",
    "Compared to the Ipywidgets `Output` maintains a synchronised model of all loaded outputs. Each item added to `SimpleOutput` is serialized and sent to the frontend.  There is no representation of the data left on the Python side meaning that `SimpleOutput` is more suitable for logging applications. "
   ]
  },
  {
   "cell_type": "markdown",
   "id": "2",
   "metadata": {},
   "source": [
    "## Methods\n",
    "\n",
    "There are two methods to add outputs \n",
    "1. `push`\n",
    "2. `set`\n",
    "\n",
    "and one '`clear`' to clear the outputs.\n"
   ]
  },
  {
   "cell_type": "markdown",
   "id": "3",
   "metadata": {},
   "source": [
    "### `push`\n",
    "\n",
    "`push` serializes and sends data as a custom message which is appended to the existing output."
   ]
  },
  {
   "cell_type": "code",
   "execution_count": null,
   "id": "4",
   "metadata": {},
   "outputs": [],
   "source": [
    "import anyio\n",
    "\n",
    "import ipylab\n",
    "from ipylab.simple_output import SimpleOutput\n",
    "\n",
    "app = ipylab.App()"
   ]
  },
  {
   "cell_type": "code",
   "execution_count": null,
   "id": "5",
   "metadata": {},
   "outputs": [],
   "source": [
    "so = SimpleOutput(layout={\"max_height\": \"200px\"})"
   ]
  },
  {
   "cell_type": "code",
   "execution_count": null,
   "id": "6",
   "metadata": {},
   "outputs": [],
   "source": [
    "for i in range(50):\n",
    "    so.push(f\"test {i}\\n\")"
   ]
  },
  {
   "cell_type": "code",
   "execution_count": null,
   "id": "7",
   "metadata": {},
   "outputs": [],
   "source": [
    "so"
   ]
  },
  {
   "cell_type": "markdown",
   "id": "8",
   "metadata": {},
   "source": [
    "Or we could do it with one message..."
   ]
  },
  {
   "cell_type": "code",
   "execution_count": null,
   "id": "9",
   "metadata": {},
   "outputs": [],
   "source": [
    "SimpleOutput(layout={\"max_height\": \"200px\"}).push(*(f\"test {i}\\n\" for i in range(50)))"
   ]
  },
  {
   "cell_type": "markdown",
   "id": "10",
   "metadata": {},
   "source": [
    "### Other formats are also supported\n",
    "\n",
    "#### Ipython"
   ]
  },
  {
   "cell_type": "code",
   "execution_count": null,
   "id": "11",
   "metadata": {},
   "outputs": [],
   "source": [
    "from IPython.display import HTML, Markdown\n",
    "\n",
    "SimpleOutput().push(Markdown(\"## Markdown\"), HTML(\"<h2>HTML</h2>\"))"
   ]
  },
  {
   "cell_type": "markdown",
   "id": "12",
   "metadata": {},
   "source": [
    "#### Ipywidgets"
   ]
  },
  {
   "cell_type": "code",
   "execution_count": null,
   "id": "13",
   "metadata": {},
   "outputs": [],
   "source": [
    "import ipywidgets as ipw\n",
    "\n",
    "SimpleOutput().push(ipw.Button(description=\"ipywidgets button\"))"
   ]
  },
  {
   "cell_type": "markdown",
   "id": "14",
   "metadata": {},
   "source": [
    "### set\n",
    "\n",
    "`Set` is similar to push, but is run as task and clears the output prior at adding the new outputs. The task returns the number of outputs in use."
   ]
  },
  {
   "cell_type": "code",
   "execution_count": null,
   "id": "15",
   "metadata": {},
   "outputs": [],
   "source": [
    "so = SimpleOutput()\n",
    "res = await so.set(\"Line one\\n\", \"Line two\")\n",
    "so"
   ]
  },
  {
   "cell_type": "code",
   "execution_count": null,
   "id": "16",
   "metadata": {},
   "outputs": [],
   "source": [
    "await anyio.sleep(0.1)\n",
    "assert so.length == res  # noqa: S101\n",
    "so.length"
   ]
  },
  {
   "cell_type": "markdown",
   "id": "17",
   "metadata": {},
   "source": [
    "## max_continuous_streams and max_outputs\n",
    "\n",
    "Notice that above the length is 1 even though we sent two values? \n",
    "\n",
    "This is because both items are streams, and by default they get put into the same output in the frontend. \n",
    "\n",
    "The maximum number of consecutive streams is configurable with `max_continuous_streams`."
   ]
  },
  {
   "cell_type": "code",
   "execution_count": null,
   "id": "18",
   "metadata": {},
   "outputs": [],
   "source": [
    "# Make each stream go into a new output.\n",
    "so.max_continuous_streams = 0\n",
    "res = await so.set(\"Line one\\n\", \"Line two\")\n",
    "await anyio.sleep(0.1)\n",
    "assert so.length == res  # noqa: S101\n",
    "so.length"
   ]
  },
  {
   "cell_type": "markdown",
   "id": "19",
   "metadata": {},
   "source": [
    "`max_outputs` limits the total number of outputs."
   ]
  },
  {
   "cell_type": "code",
   "execution_count": null,
   "id": "20",
   "metadata": {},
   "outputs": [],
   "source": [
    "so = SimpleOutput(max_continuous_streams=0, max_outputs=2)\n",
    "so"
   ]
  },
  {
   "cell_type": "code",
   "execution_count": null,
   "id": "21",
   "metadata": {},
   "outputs": [],
   "source": [
    "for i in range(100):\n",
    "    await anyio.sleep(0.001)\n",
    "    so.push(i)"
   ]
  },
  {
   "cell_type": "markdown",
   "id": "22",
   "metadata": {},
   "source": [
    "# AutoScroll\n",
    "\n",
    "AutoScroll is a widget that provides automatic scrolling around a content widget. It is intended to be used in panels placed in the shell, and doesn't work correctly when used in notebooks.\n",
    "\n",
    "**Note**\n",
    "\n",
    "Autoscroll uses a relatively new feature `onscrollend` ([detail](https://developer.mozilla.org/en-US/docs/Web/API/Element/scrollend_event)) and **may not work well on Safari** for fast update rates."
   ]
  },
  {
   "cell_type": "markdown",
   "id": "23",
   "metadata": {},
   "source": [
    "## Ipylab log viewer\n",
    "\n",
    "The Ipylab log viewer uses a `SimpleOutput` with an `AutoScroll` widget to scroll its output."
   ]
  },
  {
   "cell_type": "code",
   "execution_count": null,
   "id": "24",
   "metadata": {},
   "outputs": [],
   "source": [
    "app.log_level = \"DEBUG\"\n",
    "await app.commands.execute(\"Show log viewer\")"
   ]
  },
  {
   "cell_type": "code",
   "execution_count": null,
   "id": "25",
   "metadata": {},
   "outputs": [],
   "source": [
    "app.log.debug(\"Debug\")\n",
    "app.log.info(\"Info\")\n",
    "app.log.warning(\"Warning\")\n",
    "app.log.error(\"Error\")\n",
    "app.log.exception(\"Exception\")\n",
    "app.log.critical(\"Critical\")"
   ]
  },
  {
   "cell_type": "code",
   "execution_count": null,
   "id": "26",
   "metadata": {},
   "outputs": [],
   "source": [
    "app.shell.log_viewer.connections[0].close()"
   ]
  },
  {
   "cell_type": "markdown",
   "id": "27",
   "metadata": {},
   "source": [
    "## Example usage"
   ]
  },
  {
   "cell_type": "code",
   "execution_count": null,
   "id": "28",
   "metadata": {},
   "outputs": [],
   "source": [
    "from datetime import datetime\n",
    "\n",
    "import anyio\n",
    "import ipywidgets as ipw\n",
    "\n",
    "import ipylab\n",
    "from ipylab.simple_output import AutoScroll\n",
    "\n",
    "app = await ipylab.App().ready()"
   ]
  },
  {
   "cell_type": "code",
   "execution_count": null,
   "id": "29",
   "metadata": {},
   "outputs": [],
   "source": [
    "vb = ipw.VBox()\n",
    "sw = AutoScroll(content=vb)\n",
    "sw.sentinel_text = \"sentinel\"\n",
    "sw_holder = ipw.VBox([sw], layout={\"height\": \"200px\", \"border\": \"solid\"})\n",
    "\n",
    "enabled = ipw.Checkbox(description=\"Auto scroll\", layout={\"width\": \"120px\"}, indent=False)\n",
    "ipw.link((sw, \"enabled\"), (enabled, \"value\"))\n",
    "sleep = ipw.FloatSlider(description=\"Sleep time (s)\", value=0.3, min=0.05, max=1, step=0.01)\n",
    "\n",
    "b_start = ipw.Button(description=\"Start\", layout={\"width\": \"max-content\"})\n",
    "b_clear = ipw.Button(description=\"Clear\", layout={\"width\": \"max-content\"})\n",
    "direction = ipw.RadioButtons(options=[\"fwd\", \"rev\"], orientation=\"horizontal\", layout={\"width\": \"auto\"})\n",
    "\n",
    "\n",
    "def on_click(b):\n",
    "    if b is b_start:\n",
    "        if b.description == \"Start\":\n",
    "            b.description = \"Stop\"\n",
    "\n",
    "            async def generate_output():\n",
    "                while b.description == \"Stop\":\n",
    "                    vb.children = (*vb.children, ipw.HTML(f\"It is now {datetime.now().isoformat()}\"))  # noqa: DTZ005\n",
    "                    await anyio.sleep(sleep.value)\n",
    "\n",
    "            app.start_coro(generate_output())\n",
    "        else:\n",
    "            b.description = \"Start\"\n",
    "    if b is b_clear:\n",
    "        vb.children = ()\n",
    "\n",
    "\n",
    "b_start.on_click(on_click)\n",
    "b_clear.on_click(on_click)\n",
    "\n",
    "\n",
    "def _observe_direction(_):\n",
    "    if direction.value == \"fwd\":\n",
    "        sw.mode = \"end\"\n",
    "        vb.layout.flex_flow = \"column\"\n",
    "    else:\n",
    "        sw.mode = \"start\"\n",
    "        vb.layout.flex_flow = \"column-reverse\"\n",
    "\n",
    "\n",
    "direction.observe(_observe_direction, \"value\")\n",
    "\n",
    "p = ipylab.Panel(\n",
    "    [ipw.HBox([enabled, sleep, direction, b_start, b_clear], layout={\"justify_content\": \"center\"}), sw_holder]\n",
    ")\n",
    "await p.add_to_shell(mode=ipylab.InsertMode.split_right)"
   ]
  },
  {
   "cell_type": "markdown",
   "id": "30",
   "metadata": {},
   "source": [
    "# Basic console example\n",
    "\n",
    "In this example we create a basic console.\n",
    "\n",
    "## Features (Provided by CodeEditor):\n",
    "* await is allowed\n",
    "* coroutines are awaited automatically\n",
    "* Type hints\n",
    "* Execution (Shift Enter)\n",
    "* stdio captured during execution, but only output once execution completes\n",
    "* History\n",
    "* tooltips (documentation)\n",
    "\n",
    "## Not implemented\n",
    "* Ipython magic"
   ]
  },
  {
   "cell_type": "code",
   "execution_count": null,
   "id": "31",
   "metadata": {},
   "outputs": [],
   "source": [
    "import io\n",
    "import sys\n",
    "from collections import deque\n",
    "from contextlib import redirect_stdout\n",
    "from typing import Self\n",
    "\n",
    "import ipywidgets as ipw\n",
    "\n",
    "import ipylab\n",
    "from ipylab import Fixed\n",
    "from ipylab.code_editor import CodeEditor\n",
    "from ipylab.simple_output import AutoScroll, SimpleOutput\n",
    "from ipylab.widgets import Panel\n",
    "\n",
    "\n",
    "class SimpleConsole(Panel):\n",
    "    prompt: Fixed[Self, CodeEditor] = Fixed(\n",
    "        lambda _: CodeEditor(\n",
    "            editor_options={\"lineNumbers\": False, \"autoClosingBrackets\": True, \"highlightActiveLine\": True},\n",
    "            mime_type=\"text/x-python\",\n",
    "            layout={\"flex\": \"0 0 auto\"},\n",
    "        ),\n",
    "    )\n",
    "    header: Fixed[Self, ipw.HBox] = Fixed(\n",
    "        lambda c: ipw.HBox(\n",
    "            children=(c[\"owner\"].button_clear, c[\"owner\"].autoscroll),\n",
    "            layout={\"flex\": \"0 0 auto\"},\n",
    "        ),\n",
    "    )\n",
    "    button_clear: Fixed[Self, ipw.Button] = Fixed(lambda _: ipw.Button(description=\"Clear\", layout={\"width\": \"auto\"}))\n",
    "    autoscroll: Fixed[Self, ipw.Checkbox] = Fixed(\n",
    "        lambda _: ipw.Checkbox(description=\"Auto scroll\", layout={\"width\": \"auto\"})\n",
    "    )\n",
    "    output: Fixed[Self, SimpleOutput] = Fixed(SimpleOutput)\n",
    "    scroll: Fixed[Self, AutoScroll] = Fixed(lambda c: AutoScroll(content=c[\"owner\"].output))\n",
    "    history = Fixed(lambda _: deque(maxlen=100))\n",
    "\n",
    "    def __init__(self, namespace_id: str, **kwgs):\n",
    "        self.prompt.namespace_id = namespace_id\n",
    "        super().__init__([self.header, self.scroll, self.prompt], **kwgs)\n",
    "        self.button_clear.on_click(lambda _: self.output.push(clear=True))\n",
    "        ipw.link((self.scroll, \"enabled\"), (self.autoscroll, \"value\"))\n",
    "        self.title.label = \"Simple console\"\n",
    "        self.prompt.evaluate = self.evaluate\n",
    "        self.prompt.register_signal_callback(\"views.editorWidget.editor.edgeRequested\", self.on_edge)\n",
    "\n",
    "    async def evaluate(self, code: str):\n",
    "        code = code or self.prompt.value\n",
    "        try:\n",
    "            f = io.StringIO()\n",
    "            self.output.push(\">>> \" + code.replace(\"\\n\", \"\\n    \").strip() + \"\\n\", stream_text=True)\n",
    "            self.prompt.value = \"\"\n",
    "            with redirect_stdout(f):\n",
    "                result = await self.prompt.completer.evaluate(code)\n",
    "                if isinstance(result, dict):\n",
    "                    result = repr(result)\n",
    "            if stdout := f.getvalue():\n",
    "                self.output.push(stdout, stream_text=True)\n",
    "            else:\n",
    "                self.output.push(result)\n",
    "        except Exception:\n",
    "            text = self.app.logging_handler.formatter.formatException(sys.exc_info())  # type: ignore\n",
    "            self.output.push({\"output_type\": \"stream\", \"name\": \"stderr\", \"text\": text})\n",
    "        finally:\n",
    "            self.history.append(code)\n",
    "\n",
    "    def on_edge(self, data: ipylab.common.SignalCallbackData):\n",
    "        if history := self.history:\n",
    "            match data:\n",
    "                case {\"args\": \"top\"}:\n",
    "                    self.prompt.value = history[-1]\n",
    "                    history.rotate()\n",
    "                case {\"args\": \"bottom\"}:\n",
    "                    history.reverse()\n",
    "                    self.prompt.value = history[-1]"
   ]
  },
  {
   "cell_type": "code",
   "execution_count": null,
   "id": "32",
   "metadata": {},
   "outputs": [],
   "source": [
    "sc = SimpleConsole(\"My namespace\")\n",
    "await sc.add_to_shell(mode=ipylab.InsertMode.split_bottom)"
   ]
  },
  {
   "cell_type": "code",
   "execution_count": null,
   "id": "33",
   "metadata": {},
   "outputs": [],
   "source": [
    "sc2 = SimpleConsole(\"A separate namespace\")\n",
    "await sc2.add_to_shell(mode=ipylab.InsertMode.split_bottom)"
   ]
  }
 ],
 "metadata": {
  "kernelspec": {
   "display_name": "Python 3 (ipykernel)",
   "language": "python",
   "name": "python3"
  },
  "language_info": {
   "codemirror_mode": {
    "name": "ipython",
    "version": 3
   },
   "file_extension": ".py",
   "mimetype": "text/x-python",
   "name": "python",
   "nbconvert_exporter": "python",
   "pygments_lexer": "ipython3",
   "version": "3.11.11"
  }
 },
 "nbformat": 4,
 "nbformat_minor": 5
}
