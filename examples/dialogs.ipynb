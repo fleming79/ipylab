{
 "cells": [
  {
   "cell_type": "markdown",
   "metadata": {},
   "source": [
    "# Panels and Widgets"
   ]
  },
  {
   "cell_type": "code",
   "execution_count": null,
   "metadata": {},
   "outputs": [],
   "source": [
    "import ipylab\n",
    "import ipywidgets as ipw\n",
    "\n",
    "app = await ipylab.App().ready()"
   ]
  },
  {
   "cell_type": "markdown",
   "metadata": {},
   "source": [
    "### [Dialogs](https://jupyterlab.readthedocs.io/en/stable/extension/ui_helpers.html#dialogs)\n",
    "\n",
    "Various dialogs are provided to interact with the users, possibly getting a returned value. Outside of notebooks, the response can be awaited.\n",
    "\n",
    "#### Cancelling\n",
    "\n",
    "Except for the `showDialog` function, cancelling will raise an `IpylabFrontendError`."
   ]
  },
  {
   "cell_type": "markdown",
   "metadata": {},
   "source": [
    "#### Item"
   ]
  },
  {
   "cell_type": "code",
   "execution_count": null,
   "metadata": {},
   "outputs": [],
   "source": [
    "await app.dialog.get_item(\"Select an item\", [1, 2, 3])"
   ]
  },
  {
   "cell_type": "markdown",
   "metadata": {},
   "source": [
    "#### Boolean"
   ]
  },
  {
   "cell_type": "code",
   "execution_count": null,
   "metadata": {},
   "outputs": [],
   "source": [
    "await app.dialog.get_boolean(\"Select boolean value\")"
   ]
  },
  {
   "cell_type": "markdown",
   "metadata": {},
   "source": [
    "#### Number"
   ]
  },
  {
   "cell_type": "code",
   "execution_count": null,
   "metadata": {},
   "outputs": [],
   "source": [
    "await app.dialog.get_number(\"Provide a numeric value\")"
   ]
  },
  {
   "cell_type": "markdown",
   "metadata": {},
   "source": [
    "#### Text"
   ]
  },
  {
   "cell_type": "code",
   "execution_count": null,
   "metadata": {},
   "outputs": [],
   "source": [
    "await app.dialog.get_text(\"Enter text\")"
   ]
  },
  {
   "cell_type": "markdown",
   "metadata": {},
   "source": [
    "#### Password\n",
    "\n",
    "Note: messaging is not encrypted"
   ]
  },
  {
   "cell_type": "code",
   "execution_count": null,
   "metadata": {},
   "outputs": [],
   "source": [
    "await app.dialog.get_password(\"Provide a password\")"
   ]
  },
  {
   "cell_type": "code",
   "execution_count": null,
   "metadata": {},
   "outputs": [],
   "source": [
    "await app.dialog.show_dialog(\n",
    "    \"A custom dialog\",\n",
    "    \"It returns the raw result, and there is no cancellation\",\n",
    "    options={\n",
    "        \"buttons\": [\n",
    "            {\n",
    "                \"ariaLabel\": \"Accept\",\n",
    "                \"label\": \"Accept\",\n",
    "                \"iconClass\": \"\",\n",
    "                \"iconLabel\": \"\",\n",
    "                \"caption\": \"Accept the result\",\n",
    "                \"className\": \"\",\n",
    "                \"accept\": \"accept\",\n",
    "                \"actions\": [],\n",
    "                \"displayType\": \"warn\",\n",
    "            },\n",
    "            {\n",
    "                \"ariaLabel\": \"Cancel\",\n",
    "                \"label\": \"Cancel\",\n",
    "                \"iconClass\": \"\",\n",
    "                \"iconLabel\": \"\",\n",
    "                \"caption\": \"\",\n",
    "                \"className\": \"\",\n",
    "                \"accept\": \"cancel\",\n",
    "                \"actions\": [],\n",
    "                \"displayType\": \"default\",\n",
    "            },\n",
    "        ],\n",
    "        \"checkbox\": {  # Optional checkbox in the dialog footer\n",
    "            \"label\": \"check me\",  # Checkbox label\n",
    "            \"caption\": \"check me I'm magic\",  # Checkbox tooltip\n",
    "            \"className\": \"my-checkbox\",  # Additional checkbox CSS class\n",
    "            \"checked\": True,  # Default checkbox state\n",
    "        },\n",
    "        \"hasClose\": False,\n",
    "    },\n",
    ")"
   ]
  },
  {
   "cell_type": "markdown",
   "metadata": {},
   "source": [
    "**This one has some Ipywidgets in the body!**"
   ]
  },
  {
   "cell_type": "code",
   "execution_count": null,
   "metadata": {},
   "outputs": [],
   "source": [
    "await app.dialog.show_dialog(body=ipw.VBox([ipw.HTML(\"<b>SomeTitle</b>\"), ipw.FloatSlider()]))"
   ]
  },
  {
   "cell_type": "code",
   "execution_count": null,
   "metadata": {},
   "outputs": [],
   "source": [
    "await app.dialog.show_error_message(\n",
    "    \"My error\",\n",
    "    \"Please acknowledge\",\n",
    "    options={\n",
    "        \"buttons\": [\n",
    "            {\n",
    "                \"ariaLabel\": \"Accept\",\n",
    "                \"label\": \"Accept\",\n",
    "                \"iconClass\": \"\",\n",
    "                \"iconLabel\": \"\",\n",
    "                \"caption\": \"Accept the result\",\n",
    "                \"className\": \"\",\n",
    "                \"accept\": \"accept\",\n",
    "                \"actions\": [],\n",
    "                \"displayType\": \"warn\",\n",
    "            }\n",
    "        ],\n",
    "    },\n",
    ")"
   ]
  },
  {
   "cell_type": "markdown",
   "metadata": {},
   "source": [
    "### [File dialogs](https://jupyterlab.readthedocs.io/en/stable/extension/ui_helpers.html#file-dialogs)"
   ]
  },
  {
   "cell_type": "code",
   "execution_count": null,
   "metadata": {},
   "outputs": [],
   "source": [
    "await app.dialog.get_open_files()"
   ]
  },
  {
   "cell_type": "code",
   "execution_count": null,
   "metadata": {},
   "outputs": [],
   "source": [
    "await app.dialog.get_existing_directory()"
   ]
  }
 ],
 "metadata": {
  "kernelspec": {
   "display_name": "Python (async)",
   "language": "python",
   "name": "async"
  },
  "language_info": {
   "codemirror_mode": {
    "name": "ipython",
    "version": 3
   },
   "file_extension": ".py",
   "mimetype": "text/x-python",
   "name": "python",
   "nbconvert_exporter": "python",
   "pygments_lexer": "ipython3",
   "version": "3.11.13.final.0"
  }
 },
 "nbformat": 4,
 "nbformat_minor": 4
}
