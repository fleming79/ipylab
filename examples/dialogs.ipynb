{
 "cells": [
  {
   "cell_type": "markdown",
   "metadata": {},
   "source": [
    "**To use this notebook:** Run one line at a time waiting for each cell to return before running the next cell."
   ]
  },
  {
   "cell_type": "code",
   "execution_count": null,
   "metadata": {},
   "outputs": [],
   "source": [
    "%pip install -q ipylab"
   ]
  },
  {
   "cell_type": "markdown",
   "metadata": {},
   "source": [
    "# Panels and Widgets"
   ]
  },
  {
   "cell_type": "markdown",
   "metadata": {},
   "source": [
    "### Warning for notebooks and consoles\n",
    "\n",
    "**Do not try to await tasks returned from any ipylab methods, doing so block forever preventing further execution.**\n",
    "\n",
    "This happens because Ipylab employs custom messages over widget comms and widget comms is blocked during cell execution (in the default kernel and server).\n",
    "\n",
    "see [Plugins](plugins.ipynb#Example-launching-a-small-app) or [Actions](widgets.ipynb#Notification-Actions) for an example of awaiting the tasks in a coroutine."
   ]
  },
  {
   "cell_type": "code",
   "execution_count": null,
   "metadata": {},
   "outputs": [],
   "source": [
    "import ipywidgets as ipw\n",
    "\n",
    "import ipylab\n",
    "\n",
    "app = ipylab.app"
   ]
  },
  {
   "cell_type": "markdown",
   "metadata": {},
   "source": [
    "### [Dialogs](https://jupyterlab.readthedocs.io/en/stable/extension/ui_helpers.html#dialogs)\n",
    "\n",
    "Various dialogs are provided to interact with the users, possibly getting a returned value. Outside of notebooks, the response can be awaited.\n",
    "\n",
    "#### Cancelling\n",
    "\n",
    "Except for the `showDialog` function, cancelling will raise an `IpylabFrontendError`."
   ]
  },
  {
   "cell_type": "markdown",
   "metadata": {},
   "source": [
    "#### Item"
   ]
  },
  {
   "cell_type": "code",
   "execution_count": null,
   "metadata": {},
   "outputs": [],
   "source": [
    "t = app.dialog.get_item(\"Select an item\", [1, 2, 3])"
   ]
  },
  {
   "cell_type": "code",
   "execution_count": null,
   "metadata": {},
   "outputs": [],
   "source": [
    "t.result()"
   ]
  },
  {
   "cell_type": "markdown",
   "metadata": {},
   "source": [
    "#### Boolean"
   ]
  },
  {
   "cell_type": "code",
   "execution_count": null,
   "metadata": {},
   "outputs": [],
   "source": [
    "t = app.dialog.get_boolean(\"Select boolean value\")"
   ]
  },
  {
   "cell_type": "code",
   "execution_count": null,
   "metadata": {},
   "outputs": [],
   "source": [
    "t.result()"
   ]
  },
  {
   "cell_type": "markdown",
   "metadata": {},
   "source": [
    "#### Number"
   ]
  },
  {
   "cell_type": "code",
   "execution_count": null,
   "metadata": {},
   "outputs": [],
   "source": [
    "t = app.dialog.get_number(\"Provide a numeric value\")"
   ]
  },
  {
   "cell_type": "code",
   "execution_count": null,
   "metadata": {},
   "outputs": [],
   "source": [
    "t.result()"
   ]
  },
  {
   "cell_type": "markdown",
   "metadata": {},
   "source": [
    "#### Text"
   ]
  },
  {
   "cell_type": "code",
   "execution_count": null,
   "metadata": {},
   "outputs": [],
   "source": [
    "t = app.dialog.get_text(\"Enter text\")"
   ]
  },
  {
   "cell_type": "code",
   "execution_count": null,
   "metadata": {},
   "outputs": [],
   "source": [
    "t.result()"
   ]
  },
  {
   "cell_type": "markdown",
   "metadata": {},
   "source": [
    "#### Password\n",
    "\n",
    "Note: messaging is not encrypted"
   ]
  },
  {
   "cell_type": "code",
   "execution_count": null,
   "metadata": {},
   "outputs": [],
   "source": [
    "t = app.dialog.get_password(\"Provide a password\")"
   ]
  },
  {
   "cell_type": "code",
   "execution_count": null,
   "metadata": {},
   "outputs": [],
   "source": [
    "t.result()"
   ]
  },
  {
   "cell_type": "code",
   "execution_count": null,
   "metadata": {},
   "outputs": [],
   "source": [
    "t = app.dialog.show_dialog(\n",
    "    \"A custom dialog\",\n",
    "    \"It returns the raw result, and there is no cancellation\",\n",
    "    buttons=[\n",
    "        {\n",
    "            \"ariaLabel\": \"Accept\",\n",
    "            \"label\": \"Accept\",\n",
    "            \"iconClass\": \"\",\n",
    "            \"iconLabel\": \"\",\n",
    "            \"caption\": \"Accept the result\",\n",
    "            \"className\": \"\",\n",
    "            \"accept\": \"accept\",\n",
    "            \"actions\": [],\n",
    "            \"displayType\": \"warn\",\n",
    "        },\n",
    "        {\n",
    "            \"ariaLabel\": \"Cancel\",\n",
    "            \"label\": \"Cancel\",\n",
    "            \"iconClass\": \"\",\n",
    "            \"iconLabel\": \"\",\n",
    "            \"caption\": \"\",\n",
    "            \"className\": \"\",\n",
    "            \"accept\": \"cancel\",\n",
    "            \"actions\": [],\n",
    "            \"displayType\": \"default\",\n",
    "        },\n",
    "    ],\n",
    "    checkbox={  # Optional checkbox in the dialog footer\n",
    "        \"label\": \"check me\",  # Checkbox label\n",
    "        \"caption\": \"check me I'm magic\",  # Checkbox tooltip\n",
    "        \"className\": \"my-checkbox\",  # Additional checkbox CSS class\n",
    "        \"checked\": True,  # Default checkbox state\n",
    "    },\n",
    "    hasClose=False,\n",
    ")"
   ]
  },
  {
   "cell_type": "code",
   "execution_count": null,
   "metadata": {},
   "outputs": [],
   "source": [
    "t.result()"
   ]
  },
  {
   "cell_type": "markdown",
   "metadata": {},
   "source": [
    "**This one has some Ipywidgets in the body!**"
   ]
  },
  {
   "cell_type": "code",
   "execution_count": null,
   "metadata": {},
   "outputs": [],
   "source": [
    "t = app.dialog.show_dialog(body=ipw.VBox([ipw.HTML(\"<b>SomeTitle</b>\"), ipw.FloatSlider()]))"
   ]
  },
  {
   "cell_type": "code",
   "execution_count": null,
   "metadata": {},
   "outputs": [],
   "source": [
    "t = app.dialog.show_error_message(\n",
    "    \"My error\",\n",
    "    \"Please acknowledge\",\n",
    "    buttons=[\n",
    "        {\n",
    "            \"ariaLabel\": \"Accept\",\n",
    "            \"label\": \"Accept\",\n",
    "            \"iconClass\": \"\",\n",
    "            \"iconLabel\": \"\",\n",
    "            \"caption\": \"Accept the result\",\n",
    "            \"className\": \"\",\n",
    "            \"accept\": \"accept\",\n",
    "            \"actions\": [],\n",
    "            \"displayType\": \"warn\",\n",
    "        }\n",
    "    ],\n",
    ")"
   ]
  },
  {
   "cell_type": "code",
   "execution_count": null,
   "metadata": {},
   "outputs": [],
   "source": [
    "t.result()"
   ]
  },
  {
   "cell_type": "markdown",
   "metadata": {},
   "source": [
    "### [File dialogs](https://jupyterlab.readthedocs.io/en/stable/extension/ui_helpers.html#file-dialogs)"
   ]
  },
  {
   "cell_type": "code",
   "execution_count": null,
   "metadata": {},
   "outputs": [],
   "source": [
    "t = app.dialog.get_open_files()"
   ]
  },
  {
   "cell_type": "code",
   "execution_count": null,
   "metadata": {},
   "outputs": [],
   "source": [
    "t.result()"
   ]
  },
  {
   "cell_type": "code",
   "execution_count": null,
   "metadata": {},
   "outputs": [],
   "source": [
    "t = app.dialog.get_existing_directory()"
   ]
  },
  {
   "cell_type": "code",
   "execution_count": null,
   "metadata": {},
   "outputs": [],
   "source": [
    "t.result()"
   ]
  }
 ],
 "metadata": {
  "kernelspec": {
   "display_name": "Python 3 (ipykernel)",
   "language": "python",
   "name": "python3"
  },
  "language_info": {
   "codemirror_mode": {
    "name": "ipython",
    "version": 3
   },
   "file_extension": ".py",
   "mimetype": "text/x-python",
   "name": "python",
   "nbconvert_exporter": "python",
   "pygments_lexer": "ipython3",
   "version": "3.11.10"
  }
 },
 "nbformat": 4,
 "nbformat_minor": 4
}
