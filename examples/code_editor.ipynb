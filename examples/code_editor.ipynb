{
 "cells": [
  {
   "cell_type": "markdown",
   "id": "0",
   "metadata": {},
   "source": [
    "# CodeEditor \n",
    "\n",
    "`CodeEditor` is a Widget that uses the  Jupyterlab `CodeEditorWrapper` to provide an interface to a [CodeMirror](https://codemirror.net/) editor. \n",
    "\n",
    "The code editor provides syntax highlighting according to the specified `mime_type`. \n",
    "\n",
    "## Code completion\n",
    "\n",
    "Code completion is provided for the Python mime types `text/x-python` and `text/x-ipython`. The default invocation for code completion is `Tab`, the same as is used in Jupyterlab.\n",
    "\n",
    "### Tooltips (Inspect)\n",
    "\n",
    "Documentation `Tooltips` can be invoked with `Shift Tab`.\n",
    "\n",
    "### `namespace_id`\n",
    "\n",
    "An alternate namespaces can be specified that corresponds to a namespace registry maintained by the `App`. The default namespace \"\" also includes the IPython Shell `user_ns.\n",
    "\n",
    "## Example"
   ]
  },
  {
   "cell_type": "code",
   "execution_count": null,
   "id": "1",
   "metadata": {},
   "outputs": [],
   "source": [
    "import anyio\n",
    "\n",
    "import ipylab\n",
    "from ipylab.code_editor import CodeEditorOptions"
   ]
  },
  {
   "cell_type": "code",
   "execution_count": null,
   "id": "2",
   "metadata": {},
   "outputs": [],
   "source": [
    "# Default syntax is Python\n",
    "ce = ipylab.CodeEditor(\n",
    "    mime_type=\"text/x-python\",\n",
    "    description=\"<b>Code editor</b>\",\n",
    "    tooltip=\"This is a code editor. Code completion is provided for Python\",\n",
    "    value=\"def test():\\n    app.notification.notify('CodeEditor evaluation')\\n\\n# Place the cursor in the CodeEditor and press `Shift Enter`\\ntest()\",\n",
    "    layout={\"height\": \"120px\", \"overflow\": \"hidden\"},\n",
    "    description_allow_html=True,\n",
    ")\n",
    "display(ce)\n",
    "await ce.ready()\n",
    "ce.focus()"
   ]
  },
  {
   "cell_type": "markdown",
   "id": "3",
   "metadata": {},
   "source": [
    "Invoke the completer with `Tab` and documentation tooltips with `Shift Tab`.\n",
    "\n",
    "The code in the editor can be evaluated with `Shift Enter`. If there is code selected, it will just evaluate the selected text."
   ]
  },
  {
   "cell_type": "markdown",
   "id": "4",
   "metadata": {},
   "source": [
    "## Configuration\n",
    "\n",
    "A number of editor options are configurable:"
   ]
  },
  {
   "cell_type": "code",
   "execution_count": null,
   "id": "5",
   "metadata": {},
   "outputs": [],
   "source": [
    "list(CodeEditorOptions.__annotations__)"
   ]
  },
  {
   "cell_type": "markdown",
   "id": "6",
   "metadata": {},
   "source": [
    "Overwriting `editor_options` will update the editor (writing to the dict won't)."
   ]
  },
  {
   "cell_type": "code",
   "execution_count": null,
   "id": "7",
   "metadata": {},
   "outputs": [],
   "source": [
    "ce.editor_options = {\n",
    "    \"autoClosingBrackets\": True,\n",
    "    \"matchBrackets\": True,\n",
    "    \"highlightTrailingWhitespace\": True,\n",
    "    \"highlightWhitespace\": True,\n",
    "}"
   ]
  },
  {
   "cell_type": "code",
   "execution_count": null,
   "id": "8",
   "metadata": {},
   "outputs": [],
   "source": [
    "values = [\"short\", \"long \" * 20, \"multi line\\n\" * 10]\n",
    "\n",
    "\n",
    "async def test():\n",
    "    import random\n",
    "\n",
    "    for _ in range(20):\n",
    "        ce.value = random.choice(values)  # noqa: S311\n",
    "        await anyio.sleep(random.randint(10, 300) / 1e3)  # noqa: S311"
   ]
  },
  {
   "cell_type": "code",
   "execution_count": null,
   "id": "9",
   "metadata": {},
   "outputs": [],
   "source": [
    "ce"
   ]
  },
  {
   "cell_type": "code",
   "execution_count": null,
   "id": "10",
   "metadata": {},
   "outputs": [],
   "source": [
    "await test()"
   ]
  },
  {
   "cell_type": "code",
   "execution_count": null,
   "id": "11",
   "metadata": {},
   "outputs": [],
   "source": [
    "# Place the label above\n",
    "ce.layout.flex_flow = \"column\""
   ]
  },
  {
   "cell_type": "code",
   "execution_count": null,
   "id": "12",
   "metadata": {},
   "outputs": [],
   "source": [
    "# Add the same editor to the shell.\n",
    "await ce.app.shell.add(ce)"
   ]
  },
  {
   "cell_type": "markdown",
   "id": "13",
   "metadata": {},
   "source": [
    "### Other mime_types\n",
    "\n",
    "Other mime types can be specified. Here we specify markdown."
   ]
  },
  {
   "cell_type": "code",
   "execution_count": null,
   "id": "14",
   "metadata": {},
   "outputs": [],
   "source": [
    "md = ipylab.CodeEditor(mime_type=\"text/x-markdown\", value=\"## Markdown\")"
   ]
  },
  {
   "cell_type": "code",
   "execution_count": null,
   "id": "15",
   "metadata": {},
   "outputs": [],
   "source": [
    "md"
   ]
  }
 ],
 "metadata": {
  "kernelspec": {
   "display_name": "Python 3 (ipykernel)",
   "language": "python",
   "name": "python3"
  },
  "language_info": {
   "codemirror_mode": {
    "name": "ipython",
    "version": 3
   },
   "file_extension": ".py",
   "mimetype": "text/x-python",
   "name": "python",
   "nbconvert_exporter": "python",
   "pygments_lexer": "ipython3",
   "version": "3.12.9"
  }
 },
 "nbformat": 4,
 "nbformat_minor": 5
}
