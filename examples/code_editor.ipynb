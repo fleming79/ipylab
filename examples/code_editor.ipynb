{
 "cells": [
  {
   "cell_type": "markdown",
   "id": "0",
   "metadata": {},
   "source": [
    "## CodeEditor \n",
    "\n",
    "`CodeEditor` is a Widget that wraps the  Jupyterlab `CodeEditorWrapper`.\n",
    "\n",
    "The code editor provides syntax highlighting according to the specified mime_type. Code completion is provided for the Python mime type `text/x-python`. The default invocation for code completion is `Ctrl Space` rather than `Tab`. The reasoning being that `Tab` in CodeMirror provides indentation (four spaces)."
   ]
  },
  {
   "cell_type": "code",
   "execution_count": null,
   "id": "1",
   "metadata": {},
   "outputs": [],
   "source": [
    "import ipywidgets as ipw\n",
    "\n",
    "import ipylab"
   ]
  },
  {
   "cell_type": "code",
   "execution_count": null,
   "id": "2",
   "metadata": {},
   "outputs": [],
   "source": [
    "# Default syntax is Python\n",
    "ce = ipylab.CodeEditor(mime_type=\"text/x-python\", value=\"def test():\\n    ipylab.app.notification.notify('Hello')\")\n",
    "ce"
   ]
  },
  {
   "cell_type": "markdown",
   "id": "3",
   "metadata": {},
   "source": [
    "Add text in the code editor above. Invoke the completer with `CTRL Space`.\n",
    "\n",
    "The code in the editor can be evaluated with `Shift Enter`. If there is code selected, it will just evaluate the selected text."
   ]
  },
  {
   "cell_type": "code",
   "execution_count": null,
   "id": "4",
   "metadata": {},
   "outputs": [],
   "source": [
    "# Add the same editor to the shell.\n",
    "ipylab.app.shell.add(ce)"
   ]
  },
  {
   "cell_type": "code",
   "execution_count": null,
   "id": "5",
   "metadata": {},
   "outputs": [],
   "source": [
    "# Our use it in a box.\n",
    "ipw.Box([ce])"
   ]
  },
  {
   "cell_type": "markdown",
   "id": "6",
   "metadata": {},
   "source": [
    "### Other mime_types\n",
    "\n",
    "Other mime types can be specified. Here we specify markdown."
   ]
  },
  {
   "cell_type": "code",
   "execution_count": null,
   "id": "7",
   "metadata": {},
   "outputs": [],
   "source": [
    "md = ipylab.CodeEditor(mime_type=\"text/x-markdown\", value=\"## Markdown\")"
   ]
  },
  {
   "cell_type": "code",
   "execution_count": null,
   "id": "8",
   "metadata": {},
   "outputs": [],
   "source": [
    "md"
   ]
  },
  {
   "cell_type": "code",
   "execution_count": null,
   "id": "9",
   "metadata": {},
   "outputs": [],
   "source": [
    "md.value"
   ]
  }
 ],
 "metadata": {
  "kernelspec": {
   "display_name": "Python 3 (ipykernel)",
   "language": "python",
   "name": "python3"
  },
  "language_info": {
   "codemirror_mode": {
    "name": "ipython",
    "version": 3
   },
   "file_extension": ".py",
   "mimetype": "text/x-python",
   "name": "python",
   "nbconvert_exporter": "python",
   "pygments_lexer": "ipython3",
   "version": "3.11.10"
  }
 },
 "nbformat": 4,
 "nbformat_minor": 5
}
