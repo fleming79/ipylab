{
 "cells": [
  {
   "cell_type": "markdown",
   "id": "0",
   "metadata": {},
   "source": [
    "# Icons"
   ]
  },
  {
   "cell_type": "markdown",
   "id": "1",
   "metadata": {},
   "source": [
    "Icons can be applied to both the `Title` of a `Panel` [widgets](./widgets.ipynb) and [commands](./commands.ipynb), providing more customization than `icon_class`."
   ]
  },
  {
   "cell_type": "code",
   "execution_count": null,
   "id": "2",
   "metadata": {
    "tags": []
   },
   "outputs": [],
   "source": [
    "import json\n",
    "\n",
    "import ipylab\n",
    "import ipywidgets as ipw\n",
    "import traitlets\n",
    "\n",
    "app = await ipylab.JupyterFrontEnd().ready()"
   ]
  },
  {
   "cell_type": "markdown",
   "id": "3",
   "metadata": {},
   "source": [
    "## SVG\n",
    "\n",
    "An icon requires both a _unique_ name, as well as an SVG string. There are some [guidelines](https://jupyterlab.readthedocs.io/en/stable/extension/ui_components.html#labicon-set-up-and-render-icons) for creating \"good\" icons. For example:\n",
    "- don't include the `<?xml>` declaration\n",
    "- don't use `ids`\n",
    "- don't specify a `width` or `height`\n",
    "  - ensures the icon can be used in a number of settings\n",
    "- use the `jp-icon*` classes on filled items\n",
    "  - ensures the icon looks good on light and dark themes"
   ]
  },
  {
   "cell_type": "code",
   "execution_count": null,
   "id": "4",
   "metadata": {
    "tags": []
   },
   "outputs": [],
   "source": [
    "SVG = \"\"\"<svg xmlns=\"http://www.w3.org/2000/svg\" viewBox=\"0 0 24 24\">\n",
    "  <circle class=\"jp-icon-selectable jp-icon3\" cx=\"12\" cy=\"12\" r=\"12\" fill=\"#616161\" />\n",
    "  <path class=\"jp-contrast0\" fill=\"#fff\" d=\"M9 16.17L4.83 12l-1.42 1.41L9 19 21 7l-1.41-1.41z\"/>\n",
    "</svg>\"\"\""
   ]
  },
  {
   "cell_type": "markdown",
   "id": "5",
   "metadata": {},
   "source": [
    "Icons can be displayed directly, and sized with the `layout` member inherited from `ipywidgets.DOMWidget`."
   ]
  },
  {
   "cell_type": "code",
   "execution_count": null,
   "id": "6",
   "metadata": {
    "tags": []
   },
   "outputs": [],
   "source": [
    "icon = ipylab.Icon(name=\"my-icon\", svgstr=SVG, layout={\"width\": \"32px\"})\n",
    "icon"
   ]
  },
  {
   "cell_type": "markdown",
   "id": "7",
   "metadata": {},
   "source": [
    "### More about `jp-icon` classes\n",
    "The interactive below isn't particularly _robust_, but shows how the different `jp-icon-*` classes can be used."
   ]
  },
  {
   "cell_type": "code",
   "execution_count": null,
   "id": "8",
   "metadata": {
    "tags": []
   },
   "outputs": [],
   "source": [
    "icon_prefix = [\"\", \"-accent\", \"-brand\", \"-contrast\", \"-warn\"]\n",
    "options = [\"\"] + [f\"jp-icon{sub}{i}\" for sub in icon_prefix for i in range(5)]\n",
    "background = ipw.SelectionSlider(description=\"background\", options=options)\n",
    "foreground = ipw.SelectionSlider(description=\"foreground\", options=options)\n",
    "\n",
    "traitlets.dlink((background, \"value\"), (icon, \"svgstr\"), lambda x: SVG.replace(\"jp-icon3\", x))\n",
    "traitlets.dlink((foreground, \"value\"), (icon, \"svgstr\"), lambda x: SVG.replace(\"jp-contrast0\", x))\n",
    "size = ipw.FloatSlider(32, description=\"size\")\n",
    "traitlets.dlink((size, \"value\"), (icon.layout, \"width\"), \"{}px\".format)\n",
    "icon_controls = ipw.VBox([background, foreground, size, icon])\n",
    "icon_controls"
   ]
  },
  {
   "cell_type": "markdown",
   "id": "9",
   "metadata": {},
   "source": [
    "## Icons on Panel Titles\n",
    "\n",
    "Once defined, an icon can be used on a panel title in place of `icon_class` "
   ]
  },
  {
   "cell_type": "code",
   "execution_count": null,
   "id": "10",
   "metadata": {
    "tags": []
   },
   "outputs": [],
   "source": [
    "panel = ipylab.Panel([icon_controls])\n",
    "panel.title.icon = icon\n",
    "traitlets.dlink((background, \"value\"), (panel.title, \"label\"))\n",
    "await panel.add_to_shell(mode=ipylab.InsertMode.split_right)"
   ]
  },
  {
   "cell_type": "markdown",
   "id": "11",
   "metadata": {},
   "source": [
    "### More Title Options\n",
    "\n",
    "Titles can also include a number of other options."
   ]
  },
  {
   "cell_type": "code",
   "execution_count": null,
   "id": "12",
   "metadata": {
    "tags": []
   },
   "outputs": [],
   "source": [
    "def noop(value):\n",
    "    return value\n",
    "\n",
    "\n",
    "def as_json(value):\n",
    "    try:\n",
    "        return json.loads(value)\n",
    "    except Exception:\n",
    "        return {}\n",
    "\n",
    "\n",
    "title_controls = []\n",
    "for field_name in [\"label\", \"caption\", \"icon_class\", \"class_name\", \"dataset\"]:\n",
    "    link_fn = noop\n",
    "    placeholder = \"\"\n",
    "    if field_name == \"dataset\":\n",
    "        placeholder = \"{}\"\n",
    "        link_fn = as_json\n",
    "    field = ipw.Text(description=field_name, placeholder=placeholder)\n",
    "    traitlets.dlink((field, \"value\"), (panel.title, field_name), link_fn)\n",
    "    title_controls.append(field)\n",
    "panel.children = [icon_controls, *title_controls]"
   ]
  },
  {
   "cell_type": "markdown",
   "id": "13",
   "metadata": {},
   "source": [
    "## Icons on Commands\n",
    "\n",
    "Icons can also assigned to [commands](./commands.ipynb) to provide additional context. "
   ]
  },
  {
   "cell_type": "code",
   "execution_count": null,
   "id": "14",
   "metadata": {
    "tags": []
   },
   "outputs": [],
   "source": [
    "import random\n",
    "\n",
    "import anyio\n",
    "\n",
    "\n",
    "async def randomize_icon(count=10):\n",
    "    for _ in range(count):\n",
    "        background.value = random.choice(options)\n",
    "        await anyio.sleep(0.1)"
   ]
  },
  {
   "cell_type": "code",
   "execution_count": null,
   "id": "15",
   "metadata": {
    "tags": []
   },
   "outputs": [],
   "source": [
    "cmd = await app.commands.add_command(\"randomize\", randomize_icon, label=\"Randomize My Icon\", icon=icon)"
   ]
  },
  {
   "cell_type": "code",
   "execution_count": null,
   "id": "16",
   "metadata": {},
   "outputs": [],
   "source": [
    "assert cmd in app.commands.connections"
   ]
  },
  {
   "cell_type": "markdown",
   "id": "17",
   "metadata": {},
   "source": [
    "We can use methods on `cmd` (Connection for the cmd registered in the frontend) to add it to the command pallet, and create a launcher."
   ]
  },
  {
   "cell_type": "code",
   "execution_count": null,
   "id": "18",
   "metadata": {
    "tags": []
   },
   "outputs": [],
   "source": [
    "await app.command_pallet.add(cmd, \"All My Commands\", rank=100)"
   ]
  },
  {
   "cell_type": "markdown",
   "id": "19",
   "metadata": {},
   "source": [
    "Then open the _Command Palette_ (keyboard shortcut is `CTRL + SHIFT + C`)."
   ]
  },
  {
   "cell_type": "markdown",
   "id": "20",
   "metadata": {},
   "source": [
    "And run 'Randomize my icon'"
   ]
  }
 ],
 "metadata": {
  "kernelspec": {
   "display_name": "Python (async)",
   "language": "python",
   "name": "async"
  },
  "language_info": {
   "codemirror_mode": {
    "name": "ipython",
    "version": 3
   },
   "file_extension": ".py",
   "mimetype": "text/x-python",
   "name": "python",
   "nbconvert_exporter": "python",
   "pygments_lexer": "ipython3",
   "version": "3.11.13.final.0"
  }
 },
 "nbformat": 4,
 "nbformat_minor": 5
}
