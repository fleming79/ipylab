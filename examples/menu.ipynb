{
 "cells": [
  {
   "cell_type": "markdown",
   "metadata": {},
   "source": [
    "**To use this notebook:** Run one line at a time waiting for each cell to return before running the next cell."
   ]
  },
  {
   "cell_type": "markdown",
   "metadata": {},
   "source": [
    "# Menu\n",
    "\n",
    "Menu items can be made in Jupyterlab with a connection provided back to the item in ipylab.\n",
    "\n",
    "## Main menu\n",
    "\n",
    "We can add items to existing menus. But lets first create a new menu and add it to the main menu."
   ]
  },
  {
   "cell_type": "code",
   "execution_count": null,
   "metadata": {},
   "outputs": [],
   "source": [
    "import ipywidgets as ipw\n",
    "\n",
    "import ipylab\n",
    "\n",
    "app = ipylab.app"
   ]
  },
  {
   "cell_type": "code",
   "execution_count": null,
   "metadata": {},
   "outputs": [],
   "source": [
    "t = app.main_menu.create_menu(\"🌈 MY CUSTOM MENU 🎌\")"
   ]
  },
  {
   "cell_type": "markdown",
   "metadata": {},
   "source": [
    "Menus can be added directly to the shell or nested inside other menus. Let's add this menu to main menu up top."
   ]
  },
  {
   "cell_type": "code",
   "execution_count": null,
   "metadata": {},
   "outputs": [],
   "source": [
    "menu = t.result()\n",
    "app.main_menu.add_menu(menu)"
   ]
  },
  {
   "cell_type": "markdown",
   "metadata": {},
   "source": [
    "See above that the new menu is now added"
   ]
  },
  {
   "cell_type": "markdown",
   "metadata": {},
   "source": [
    "Lets populate the new menu."
   ]
  },
  {
   "cell_type": "code",
   "execution_count": null,
   "metadata": {},
   "outputs": [],
   "source": [
    "async def populate_menu(menu):\n",
    "    await menu.add_item(command=\"help:about\")\n",
    "    await menu.add_item(type=\"separator\")\n",
    "    submenu = await app.main_menu.create_menu(\"My submenu\")\n",
    "    await submenu.add_item(command=\"notebook:create-console\")\n",
    "    await menu.add_item(submenu=submenu, type=\"submenu\")\n",
    "    await menu.add_item(command=\"logconsole:open\")\n",
    "\n",
    "    # Open it\n",
    "    await app.main_menu.set_property(\"activeMenu\", ipylab.pack(menu), toObject=[\"value\"])\n",
    "    await app.main_menu.execute_method(\"openActiveMenu\")"
   ]
  },
  {
   "cell_type": "code",
   "execution_count": null,
   "metadata": {},
   "outputs": [],
   "source": [
    "app.to_task(populate_menu(menu))"
   ]
  },
  {
   "cell_type": "code",
   "execution_count": null,
   "metadata": {},
   "outputs": [],
   "source": [
    "menu.activate()"
   ]
  },
  {
   "cell_type": "markdown",
   "metadata": {},
   "source": [
    "### Built in menus\n",
    "\n",
    "The built in menus are accessible under `app.main_menu` and can be manipulated in the same way."
   ]
  },
  {
   "cell_type": "code",
   "execution_count": null,
   "metadata": {},
   "outputs": [],
   "source": [
    "t = app.main_menu.file_menu.add_item(command=\"logconsole:open\")"
   ]
  },
  {
   "cell_type": "code",
   "execution_count": null,
   "metadata": {},
   "outputs": [],
   "source": [
    "app.main_menu.file_menu.add_item(command=\"logconsole:open\")\n",
    "app.main_menu.file_menu.activate()"
   ]
  },
  {
   "cell_type": "markdown",
   "metadata": {},
   "source": [
    "## Context menu\n",
    "\n",
    "The app provides a global context menu. We can add items to the context menu using the same functions."
   ]
  },
  {
   "cell_type": "code",
   "execution_count": null,
   "metadata": {},
   "outputs": [],
   "source": [
    "t = app.to_task(populate_menu(app.context_menu))"
   ]
  },
  {
   "cell_type": "code",
   "execution_count": null,
   "metadata": {},
   "outputs": [],
   "source": [
    "panel = ipylab.Panel([ipw.HTML(\"<h3>Right click to open the context menu\")])"
   ]
  },
  {
   "cell_type": "code",
   "execution_count": null,
   "metadata": {},
   "outputs": [],
   "source": [
    "panel.add_to_shell(mode=ipylab.InsertMode.split_right)"
   ]
  },
  {
   "cell_type": "markdown",
   "metadata": {},
   "source": [
    "### Selectors\n",
    "\n",
    "Selectors are used to discriminate what items are shown in context menus.\n",
    "\n",
    "Ipylab by default provides a selector using the `vpath` which limits the context menu items to ipylab widgets for the current app.vpath.\n",
    "\n",
    "The scope of the context menu items can be altered by specifying the selector when adding a new item to the context menu. \n",
    "\n",
    "Here we can add a dispose command to allow us to remove any element in the main area by using the .jp-Activity selector. Note a period '.' is required before the CSS class name.\n"
   ]
  },
  {
   "cell_type": "code",
   "execution_count": null,
   "metadata": {},
   "outputs": [],
   "source": [
    "async def show_id(active_widget: ipylab.ShellConnection):\n",
    "    id_ = await active_widget.get_property(\"id\")\n",
    "    await app.dialog.show_dialog(\"Show id\", f\"Widget id is {id_}\")\n",
    "\n",
    "\n",
    "t = app.commands.add_command(\"Show id\", show_id)"
   ]
  },
  {
   "cell_type": "code",
   "execution_count": null,
   "metadata": {},
   "outputs": [],
   "source": [
    "t = app.context_menu.add_item(command=t.result(), rank=1000, selector=\".jp-Notebook\")"
   ]
  },
  {
   "cell_type": "markdown",
   "metadata": {},
   "source": [
    "## On ready\n",
    "\n",
    "**Requires per-kernel widget manager**\n",
    "\n",
    "When the workspace is re-loaded, including when the page is refreshed, all objects in the frontend are lost. IpyWidgets get restored from the backend, but the connected objects are not. \n",
    "\n",
    "For this reason, creating anything that uses connections should be defined in a function and then registered with on_ready.\n",
    "\n",
    "`on_ready` is called with the object that was registered. \n",
    "\n",
    "For example using `populate_menus from above:"
   ]
  },
  {
   "cell_type": "code",
   "execution_count": null,
   "metadata": {},
   "outputs": [],
   "source": [
    "async def create_menus(app: ipylab.App):\n",
    "    menu = await app.main_menu.create_menu(\"🌈 MY CUSTOM MENU 🎌\")\n",
    "    await app.main_menu.add_menu(menu)\n",
    "    await populate_menu(menu)\n",
    "    await populate_menu(app.context_menu)\n",
    "\n",
    "\n",
    "app.on_ready(create_menus)"
   ]
  },
  {
   "cell_type": "markdown",
   "metadata": {},
   "source": [
    "Reload the page (F5) ignoring any warnings.\n",
    "\n",
    "The panel that was in the shell and the menus should have been restored.\n",
    "\n",
    "Note: May require a per-kernel widget manager. See Readme for details on installation."
   ]
  }
 ],
 "metadata": {
  "kernelspec": {
   "display_name": "Python 3 (ipykernel)",
   "language": "python",
   "name": "python3"
  },
  "language_info": {
   "codemirror_mode": {
    "name": "ipython",
    "version": 3
   },
   "file_extension": ".py",
   "mimetype": "text/x-python",
   "name": "python",
   "nbconvert_exporter": "python",
   "pygments_lexer": "ipython3",
   "version": "3.11.10"
  }
 },
 "nbformat": 4,
 "nbformat_minor": 4
}
