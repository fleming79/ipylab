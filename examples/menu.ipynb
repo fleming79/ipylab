{
 "cells": [
  {
   "cell_type": "markdown",
   "metadata": {},
   "source": [
    "**To use this notebook:** Run one line at a time waiting for each cell to return before running the next cell."
   ]
  },
  {
   "cell_type": "markdown",
   "metadata": {},
   "source": [
    "# Menu\n",
    "\n",
    "Menu items can be made in Jupyterlab with a connection provided back to the item in ipylab.\n",
    "\n",
    "## Main menu\n",
    "\n",
    "We can add items to existing menus. But lets first create a new menu and add it to the main menu."
   ]
  },
  {
   "cell_type": "code",
   "execution_count": null,
   "metadata": {},
   "outputs": [],
   "source": [
    "import ipywidgets as ipw\n",
    "\n",
    "import ipylab\n",
    "\n",
    "app = ipylab.app"
   ]
  },
  {
   "cell_type": "code",
   "execution_count": null,
   "metadata": {},
   "outputs": [],
   "source": [
    "t = app.commands.create_menu(\"🌈 MY CUSTOM MENU 🎌\")"
   ]
  },
  {
   "cell_type": "markdown",
   "metadata": {},
   "source": [
    "Menus can be added directly to the shell or nested inside other menus. Let's add this menu to main menu up top."
   ]
  },
  {
   "cell_type": "code",
   "execution_count": null,
   "metadata": {},
   "outputs": [],
   "source": [
    "menu = t.result()\n",
    "app.main_menu.add_menu(menu)"
   ]
  },
  {
   "cell_type": "markdown",
   "metadata": {},
   "source": [
    "See above that the new menu is now added"
   ]
  },
  {
   "cell_type": "markdown",
   "metadata": {},
   "source": [
    "Lets populate the new menu."
   ]
  },
  {
   "cell_type": "code",
   "execution_count": null,
   "metadata": {},
   "outputs": [],
   "source": [
    "async def populate_menu(menu):\n",
    "    await menu.add_item(command=\"help:about\")\n",
    "    await menu.add_item(type=\"separator\")\n",
    "    submenu = await menu.commands.create_menu(\"My submenu\")\n",
    "    await submenu.add_item(command=\"notebook:create-console\")\n",
    "    await menu.add_item(submenu=submenu, type=\"submenu\")\n",
    "    await menu.add_item(command=\"logconsole:open\")\n",
    "\n",
    "    # Open it\n",
    "    menu.activate()"
   ]
  },
  {
   "cell_type": "code",
   "execution_count": null,
   "metadata": {},
   "outputs": [],
   "source": [
    "app.to_task(populate_menu(menu))"
   ]
  },
  {
   "cell_type": "markdown",
   "metadata": {},
   "source": [
    "### Built in menus\n",
    "\n",
    "The built in menus are accessible under `app.main_menu` and can be manipulated in the same way."
   ]
  },
  {
   "cell_type": "code",
   "execution_count": null,
   "metadata": {},
   "outputs": [],
   "source": [
    "t = app.main_menu.file_menu.add_item(command=\"logconsole:open\")"
   ]
  },
  {
   "cell_type": "code",
   "execution_count": null,
   "metadata": {},
   "outputs": [],
   "source": [
    "app.main_menu.file_menu.activate()"
   ]
  },
  {
   "cell_type": "code",
   "execution_count": null,
   "metadata": {},
   "outputs": [],
   "source": [
    "# Remove the menu item.\n",
    "mc = t.result()\n",
    "mc.close()"
   ]
  },
  {
   "cell_type": "markdown",
   "metadata": {},
   "source": [
    "## Context menu\n",
    "\n",
    "The app provides a global context menu. We can add items to the context menu using similar commands with an added option 'selector'."
   ]
  },
  {
   "cell_type": "code",
   "execution_count": null,
   "metadata": {},
   "outputs": [],
   "source": [
    "app.context_menu.add_item(submenu=menu, type=\"submenu\")"
   ]
  },
  {
   "cell_type": "code",
   "execution_count": null,
   "metadata": {},
   "outputs": [],
   "source": [
    "panel = ipylab.Panel([ipw.HTML(\"<h3>Right click to open the context menu\")])"
   ]
  },
  {
   "cell_type": "code",
   "execution_count": null,
   "metadata": {},
   "outputs": [],
   "source": [
    "panel.add_to_shell(mode=ipylab.InsertMode.split_right)"
   ]
  },
  {
   "cell_type": "code",
   "execution_count": null,
   "metadata": {},
   "outputs": [],
   "source": [
    "menu.close()"
   ]
  },
  {
   "cell_type": "markdown",
   "metadata": {},
   "source": [
    "### Selectors\n",
    "\n",
    "Selectors are used to discriminate what items are shown in context menus which is filtered by the CSS class of the widgets.\n",
    "\n",
    "By default Ipylab uses `app.selector` as the selector. The selector is `.ipylab-` followed by the `vpath` any dots in the vpath are replace with a hyphen '-'. the selector is added as a class for Widgets added to the shell, but with the period removed.\n",
    "\n",
    "The scope of the context menu items can be altered by specifying the selector when adding a new item to the context menu. \n",
    "\n",
    "Here we define a function for notebooks by using the `.jp-Notebook` *selector*. Note a period '.' is required before the CSS class name. Multiple selectors can be be defined by adding a space between the selectors."
   ]
  },
  {
   "cell_type": "code",
   "execution_count": null,
   "metadata": {},
   "outputs": [],
   "source": [
    "async def show_id(ref: ipylab.ShellConnection):\n",
    "    id_ = await ref.get_property(\"id\")\n",
    "    await app.dialog.show_dialog(\"Show id\", f\"Widget id is {id_}\")\n",
    "\n",
    "\n",
    "t = app.commands.add_command(\"Show id\", show_id)"
   ]
  },
  {
   "cell_type": "code",
   "execution_count": null,
   "metadata": {},
   "outputs": [],
   "source": [
    "t = app.context_menu.add_item(command=t.result(), rank=1000, selector=\".jp-Notebook\")"
   ]
  },
  {
   "cell_type": "markdown",
   "metadata": {},
   "source": [
    "#### Limiting scope\n",
    "\n",
    "In a similar way the scope can be narrowed, say to add a selector to a specific widget. Simply add the selector without the period '.' as a class on the widget (it needs to be a subclass of `DomWidget`).\n",
    "\n",
    "Let's create a new `CommandRegistry` (optional), add a menu and then add the menu to the *Jupyterlab* context menu."
   ]
  },
  {
   "cell_type": "code",
   "execution_count": null,
   "metadata": {},
   "outputs": [],
   "source": [
    "cr = ipylab.commands.CommandRegistry(name=\"My command registry\")\n",
    "t = cr.create_menu(\"Extra commands\")"
   ]
  },
  {
   "cell_type": "code",
   "execution_count": null,
   "metadata": {},
   "outputs": [],
   "source": [
    "# Notice this command registry is empty\n",
    "cr.all_commands"
   ]
  },
  {
   "cell_type": "code",
   "execution_count": null,
   "metadata": {},
   "outputs": [],
   "source": [
    "# MenuConnection\n",
    "mc = t.result()"
   ]
  },
  {
   "cell_type": "code",
   "execution_count": null,
   "metadata": {},
   "outputs": [],
   "source": [
    "t = cr.add_command(\n",
    "    \"Open a dialog\", lambda app: app.dialog.show_dialog(\"Custom\", \"This is called from a custom registry\")\n",
    ")"
   ]
  },
  {
   "cell_type": "code",
   "execution_count": null,
   "metadata": {},
   "outputs": [],
   "source": [
    "cmd = t.result()\n",
    "mc.add_item(command=cmd)"
   ]
  },
  {
   "cell_type": "code",
   "execution_count": null,
   "metadata": {},
   "outputs": [],
   "source": [
    "t = app.context_menu.add_item(submenu=mc, type=\"submenu\", selector=\".WithExtraCommands\")"
   ]
  },
  {
   "cell_type": "code",
   "execution_count": null,
   "metadata": {},
   "outputs": [],
   "source": [
    "t.result()"
   ]
  },
  {
   "cell_type": "code",
   "execution_count": null,
   "metadata": {},
   "outputs": [],
   "source": [
    "b1 = ipw.HTML(value=\"<h1>Context WITHOUT extra commands<h1>\", layout={\"border\": \"solid 3px blue\"})\n",
    "b2 = ipw.HTML(\"<h1>Context WITH extra commands</h1>\", layout={\"border\": \"solid 3px green\"})\n",
    "b2.add_class(\"WithExtraCommands\")\n",
    "panel = ipylab.Panel([b1, b2])\n",
    "panel.add_to_shell()"
   ]
  },
  {
   "cell_type": "markdown",
   "metadata": {},
   "source": [
    "In this way additional context can be added to specific widgets."
   ]
  },
  {
   "cell_type": "markdown",
   "metadata": {},
   "source": [
    "## On ready\n",
    "\n",
    "**Requires per-kernel widget manager**\n",
    "\n",
    "When the workspace is re-loaded, including when the page is refreshed, all objects in the frontend are lost. IpyWidgets get restored from the backend, but the connected objects do not. \n",
    "\n",
    "For this reason, creating anything that uses connections should be defined in a function and then registered with on_ready.\n",
    "\n",
    "`on_ready` is called with the object that was registered. \n",
    "\n",
    "For example using `populate_menus from above:"
   ]
  },
  {
   "cell_type": "code",
   "execution_count": null,
   "metadata": {},
   "outputs": [],
   "source": [
    "async def create_menus(app: ipylab.App):\n",
    "    menu = await app.commands.create_menu(\"🌈 MY CUSTOM MENU 🎌\")\n",
    "    await app.main_menu.add_menu(menu)\n",
    "    await populate_menu(menu)\n",
    "    await populate_menu(app.context_menu)\n",
    "\n",
    "\n",
    "app.on_ready(create_menus)"
   ]
  },
  {
   "cell_type": "markdown",
   "metadata": {},
   "source": [
    "Reload the page (F5) ignoring any warnings.\n",
    "\n",
    "The panel that was in the shell and the menus should have been restored.\n",
    "\n",
    "Note: May require a per-kernel widget manager. See Readme for details on installation."
   ]
  }
 ],
 "metadata": {
  "kernelspec": {
   "display_name": "Python 3 (ipykernel)",
   "language": "python",
   "name": "python3"
  },
  "language_info": {
   "codemirror_mode": {
    "name": "ipython",
    "version": 3
   },
   "file_extension": ".py",
   "mimetype": "text/x-python",
   "name": "python",
   "nbconvert_exporter": "python",
   "pygments_lexer": "ipython3",
   "version": "3.11.10"
  }
 },
 "nbformat": 4,
 "nbformat_minor": 4
}
