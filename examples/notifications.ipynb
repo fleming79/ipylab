{
 "cells": [
  {
   "cell_type": "markdown",
   "metadata": {},
   "source": [
    "**To use this notebook:** Run one line at a time waiting for each cell to return before running the next cell."
   ]
  },
  {
   "cell_type": "code",
   "execution_count": null,
   "metadata": {},
   "outputs": [],
   "source": [
    "%pip install -q ipylab"
   ]
  },
  {
   "cell_type": "markdown",
   "metadata": {},
   "source": [
    "### Notifications\n",
    "Lets make a notification and then do some updates to the notification using the `NotificationConnection`. "
   ]
  },
  {
   "cell_type": "code",
   "execution_count": null,
   "metadata": {},
   "outputs": [],
   "source": [
    "import asyncio\n",
    "\n",
    "import ipylab\n",
    "\n",
    "app = ipylab.app"
   ]
  },
  {
   "cell_type": "code",
   "execution_count": null,
   "metadata": {},
   "outputs": [],
   "source": [
    "t = app.notification.notify(\"Updating soon\", ipylab.NotificationType.progress, auto_close=False)"
   ]
  },
  {
   "cell_type": "code",
   "execution_count": null,
   "metadata": {},
   "outputs": [],
   "source": [
    "nc = t.result()"
   ]
  },
  {
   "cell_type": "code",
   "execution_count": null,
   "metadata": {},
   "outputs": [],
   "source": [
    "async def update():\n",
    "    n = 20\n",
    "    for i in range(1, n):\n",
    "        await nc.update(f\"Updating {n - i}\")\n",
    "    await nc.update(\"All done\", type=ipylab.NotificationType.success)\n",
    "    await asyncio.sleep(1)\n",
    "    nc.close()\n",
    "\n",
    "\n",
    "t = nc.to_task(update())"
   ]
  },
  {
   "cell_type": "code",
   "execution_count": null,
   "metadata": {},
   "outputs": [],
   "source": [
    "nc"
   ]
  },
  {
   "cell_type": "markdown",
   "metadata": {},
   "source": [
    "### Notification Actions\n",
    "\n",
    "Actions appear as a button in the notification. Each action has a callback to a python function. Here each callback executes a command in Jupyterlab."
   ]
  },
  {
   "cell_type": "code",
   "execution_count": null,
   "metadata": {},
   "outputs": [],
   "source": [
    "t = app.notification.notify(\n",
    "    \"These buttons are linked to the Python callback.\",\n",
    "    actions=[\n",
    "        {\"label\": \"About\", \"caption\": \"Show help\", \"callback\": lambda: app.commands.execute(\"help:about\")},\n",
    "        {\n",
    "            \"label\": \"Show Menu\",\n",
    "            \"caption\": \"`keep_open` means the notify is left open\",\n",
    "            \"callback\": lambda: app.commands.execute(\"kernelmenu:open\"),\n",
    "            \"display_type\": \"accent\",\n",
    "            \"keep_open\": True,\n",
    "        },\n",
    "        {\n",
    "            \"label\": \"Close Notebook\",\n",
    "            \"caption\": \"Close this notebook\",\n",
    "            \"display_type\": \"warn\",\n",
    "            \"callback\": lambda: app.commands.execute(\"notebook:close-and-shutdown\"),\n",
    "        },\n",
    "    ],\n",
    "    type=ipylab.NotificationType.info,\n",
    "    auto_close=False,\n",
    ")"
   ]
  }
 ],
 "metadata": {
  "kernelspec": {
   "display_name": "Python 3 (ipykernel)",
   "language": "python",
   "name": "python3"
  },
  "language_info": {
   "codemirror_mode": {
    "name": "ipython",
    "version": 3
   },
   "file_extension": ".py",
   "mimetype": "text/x-python",
   "name": "python",
   "nbconvert_exporter": "python",
   "pygments_lexer": "ipython3",
   "version": "3.11.10"
  }
 },
 "nbformat": 4,
 "nbformat_minor": 4
}
