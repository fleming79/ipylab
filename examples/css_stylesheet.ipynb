{
 "cells": [
  {
   "cell_type": "markdown",
   "metadata": {},
   "source": [
    "# CSS Stylesheet\n",
    "\n",
    "You can create and override CSS rules. \n",
    "\n",
    "Here we add a new css variable `--ipylab-custom` and specify some new css classes `resize-both` and `resize-horizontal` so we can access layout settings not available in the Layout property."
   ]
  },
  {
   "cell_type": "code",
   "execution_count": null,
   "metadata": {},
   "outputs": [],
   "source": [
    "import ipylab\n",
    "import ipywidgets as ipw\n",
    "from ipylab.css_stylesheet import CSSStyleSheet\n",
    "\n",
    "app = ipylab.App()"
   ]
  },
  {
   "cell_type": "code",
   "execution_count": null,
   "metadata": {},
   "outputs": [],
   "source": [
    "# Create a new CSSStyleSheet object.\n",
    "ss = CSSStyleSheet()\n",
    "\n",
    "# Set a css variable\n",
    "await ss.set_variables({\"--ipylab-custom\": \"orange\"})  # Demonstrate setting a variable\n",
    "\n",
    "# Define some new css\n",
    "await ss.replace(\"\"\"\n",
    ".resize-both { resize: both; border: solid 2px var(--ipylab-custom);}\n",
    ".resize-horizontal { resize: horizontal; border: solid 2px blue;}\n",
    "\"\"\")  # Define the stylesheet"
   ]
  },
  {
   "cell_type": "markdown",
   "metadata": {},
   "source": [
    "## Resize example"
   ]
  },
  {
   "cell_type": "code",
   "execution_count": null,
   "metadata": {},
   "outputs": [],
   "source": [
    "# Create some boxes to show how they can be resized by the user (dragger added to the bottom right corner of the box).\n",
    "\n",
    "b = ipw.Box([ipw.Button(description=\"Resize both\", layout={\"height\": \"auto\", \"width\": \"100%\"})])\n",
    "b.add_class(\"resize-both\")\n",
    "\n",
    "bb = ipw.Box([ipw.Button(description=\"Resize horizontal\", layout={\"height\": \"auto\", \"width\": \"100%\"})])\n",
    "bb.add_class(\"resize-horizontal\")\n",
    "ipw.Box([b, bb])"
   ]
  },
  {
   "cell_type": "markdown",
   "metadata": {},
   "source": [
    "We can also override Jupyterlab css rules"
   ]
  },
  {
   "cell_type": "code",
   "execution_count": null,
   "metadata": {},
   "outputs": [],
   "source": [
    "await ss.insert_rule(\".jp-MainAreaWidget { border: 2px double blue; }\")"
   ]
  },
  {
   "cell_type": "code",
   "execution_count": null,
   "metadata": {},
   "outputs": [],
   "source": [
    "await ss.delete_rule(0)"
   ]
  },
  {
   "cell_type": "code",
   "execution_count": null,
   "metadata": {},
   "outputs": [],
   "source": [
    "# Closing the stylesheet removes all of the style changes\n",
    "ss.close()"
   ]
  },
  {
   "cell_type": "markdown",
   "metadata": {},
   "source": [
    "## Variables\n",
    "\n",
    "Jupyterlab global css variables can also be accessed. Since these are global values, any values set, will be retained until the object is closed and the page is refreshed."
   ]
  },
  {
   "cell_type": "code",
   "execution_count": null,
   "metadata": {},
   "outputs": [],
   "source": [
    "ss = CSSStyleSheet()"
   ]
  },
  {
   "cell_type": "code",
   "execution_count": null,
   "metadata": {},
   "outputs": [],
   "source": [
    "variables = await ss.get_variables()\n",
    "ipylab.SimpleOutput(layout={\"max_height\": \"200px\"}).push(variables)"
   ]
  },
  {
   "cell_type": "markdown",
   "metadata": {},
   "source": [
    "## Example: Jupyterlab custom styling\n",
    "\n",
    "\n",
    "https://jupyterlab.readthedocs.io/en/latest/user/custom_css.html"
   ]
  },
  {
   "cell_type": "code",
   "execution_count": null,
   "metadata": {},
   "outputs": [],
   "source": [
    "ss = CSSStyleSheet()\n",
    "await ss.replace(\"\"\"\n",
    "/* Modify Jupyter Styles */\n",
    "\n",
    ".lm-BoxPanel-child,\n",
    ".jp-FileBrowser-Panel,\n",
    ".lm-StackedPanel-child,\n",
    ".jp-FileBrowser-toolbar {\n",
    "  background-color: #aecad4 !important;\n",
    "}\n",
    "\n",
    "#top-panel-wrapper,\n",
    "#jp-top-bar {\n",
    "  background-color: #aecad4 !important;\n",
    "}\n",
    "\n",
    "#menu-panel-wrapper,\n",
    "#jp-MainMenu,\n",
    "#menu-panel {\n",
    "  background-color: #aecad4 !important;\n",
    "}\n",
    "\n",
    ".jp-NotebookPanel-toolbar {\n",
    "  background-color: #aecad4 !important;\n",
    "}\n",
    "\n",
    ".lm-MenuBar-content {\n",
    "  color: #02484d;\n",
    "}\n",
    "\n",
    ".lm-TabBar-content,\n",
    ".jp-DirListing-content,\n",
    ".lm-MenuBar-content {\n",
    "  font-size: small;\n",
    "}\n",
    "\"\"\")"
   ]
  },
  {
   "cell_type": "code",
   "execution_count": null,
   "metadata": {},
   "outputs": [],
   "source": [
    "# Revert\n",
    "ss.close()"
   ]
  }
 ],
 "metadata": {
  "kernelspec": {
   "display_name": "Python (async)",
   "language": "python",
   "name": "async"
  },
  "language_info": {
   "codemirror_mode": {
    "name": "ipython",
    "version": 3
   },
   "file_extension": ".py",
   "mimetype": "text/x-python",
   "name": "python",
   "nbconvert_exporter": "python",
   "pygments_lexer": "ipython3",
   "version": "3.11.13.final.0"
  }
 },
 "nbformat": 4,
 "nbformat_minor": 4
}
