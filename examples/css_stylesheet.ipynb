{
 "cells": [
  {
   "cell_type": "markdown",
   "metadata": {},
   "source": [
    "**To use this notebook:** Run one line at a time waiting for each cell to return before running the next cell."
   ]
  },
  {
   "cell_type": "code",
   "execution_count": null,
   "metadata": {},
   "outputs": [],
   "source": [
    "%pip install -q ipylab"
   ]
  },
  {
   "cell_type": "markdown",
   "metadata": {},
   "source": [
    "# CSS Stylesheet\n",
    "\n",
    "You can create and override CSS rules. \n",
    "\n",
    "Here we add a new css variable `--ipylab-custom` and specify some new css classes `resize-both` and `resize-horizontal` so we can access layout settings not available in the Layout property."
   ]
  },
  {
   "cell_type": "code",
   "execution_count": null,
   "metadata": {},
   "outputs": [],
   "source": [
    "import ipywidgets as ipw\n",
    "\n",
    "import ipylab\n",
    "\n",
    "app = ipylab.app"
   ]
  },
  {
   "cell_type": "code",
   "execution_count": null,
   "metadata": {},
   "outputs": [],
   "source": [
    "import ipylab.css_stylesheet"
   ]
  },
  {
   "cell_type": "code",
   "execution_count": null,
   "metadata": {},
   "outputs": [],
   "source": [
    "# Create a new CSSStyleSheet object.\n",
    "ss = ipylab.css_stylesheet.CSSStyleSheet()\n",
    "\n",
    "# Set a css variable\n",
    "t = ss.set_variables({\"--ipylab-custom\": \"orange\"})  # Demonstrate setting a variable\n",
    "\n",
    "# Define some new css\n",
    "t = ss.replace(\"\"\"\n",
    ".resize-both { resize: both; border: solid 2px var(--ipylab-custom);}\n",
    ".resize-horizontal { resize: horizontal; border: solid 2px blue;}\n",
    "\"\"\")  # Define the stylesheet"
   ]
  },
  {
   "cell_type": "code",
   "execution_count": null,
   "metadata": {},
   "outputs": [],
   "source": [
    "# Create some boxes to show how they can be resized by the user (dragger added to the bottom right corner of the box).\n",
    "\n",
    "b = ipw.Box([ipw.Button(description=\"Resize both\", layout={\"height\": \"auto\", \"width\": \"100%\"})])\n",
    "b.add_class(\"resize-both\")\n",
    "\n",
    "bb = ipw.Box([ipw.Button(description=\"Resize horizontal\", layout={\"height\": \"auto\", \"width\": \"100%\"})])\n",
    "bb.add_class(\"resize-horizontal\")\n",
    "ipw.Box([b, bb])"
   ]
  },
  {
   "cell_type": "code",
   "execution_count": null,
   "metadata": {},
   "outputs": [],
   "source": [
    "# Rules are updated as the operations complete.\n",
    "ss.css_rules"
   ]
  },
  {
   "cell_type": "markdown",
   "metadata": {},
   "source": [
    "We can also override Jupyterlab css rules"
   ]
  },
  {
   "cell_type": "code",
   "execution_count": null,
   "metadata": {},
   "outputs": [],
   "source": [
    "ss.insert_rule(\".jp-MainAreaWidget { border: 2px double blue; }\")"
   ]
  },
  {
   "cell_type": "code",
   "execution_count": null,
   "metadata": {},
   "outputs": [],
   "source": [
    "ss.css_rules"
   ]
  },
  {
   "cell_type": "code",
   "execution_count": null,
   "metadata": {},
   "outputs": [],
   "source": [
    "ss.delete_rule(0)"
   ]
  },
  {
   "cell_type": "code",
   "execution_count": null,
   "metadata": {},
   "outputs": [],
   "source": [
    "# Closing the stylesheet removes all of the style changes\n",
    "ss.close()"
   ]
  },
  {
   "cell_type": "markdown",
   "metadata": {},
   "source": [
    "## Variables\n",
    "\n",
    "Jupyterlab global css variables can also be accessed. Since these are global values, any values set, will be retained until the object is closed and the page is refreshed."
   ]
  },
  {
   "cell_type": "code",
   "execution_count": null,
   "metadata": {},
   "outputs": [],
   "source": [
    "ss = ipylab.css_stylesheet.CSSStyleSheet()"
   ]
  },
  {
   "cell_type": "code",
   "execution_count": null,
   "metadata": {},
   "outputs": [],
   "source": [
    "t = ss.get_variables()"
   ]
  },
  {
   "cell_type": "code",
   "execution_count": null,
   "metadata": {},
   "outputs": [],
   "source": [
    "t.result()"
   ]
  }
 ],
 "metadata": {
  "kernelspec": {
   "display_name": "Python 3 (ipykernel)",
   "language": "python",
   "name": "python3"
  },
  "language_info": {
   "codemirror_mode": {
    "name": "ipython",
    "version": 3
   },
   "file_extension": ".py",
   "mimetype": "text/x-python",
   "name": "python",
   "nbconvert_exporter": "python",
   "pygments_lexer": "ipython3",
   "version": "3.11.10"
  }
 },
 "nbformat": 4,
 "nbformat_minor": 4
}
